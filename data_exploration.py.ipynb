{
 "cells": [
  {
   "cell_type": "code",
   "execution_count": 1,
   "metadata": {},
   "outputs": [],
   "source": [
    "import pandas as pd\n",
    "import matplotlib.pyplot as plt\n",
    "import sys"
   ]
  },
  {
   "cell_type": "markdown",
   "metadata": {},
   "source": [
    "## Load Iquitos dataset"
   ]
  },
  {
   "cell_type": "code",
   "execution_count": 2,
   "metadata": {},
   "outputs": [
    {
     "name": "stdout",
     "output_type": "stream",
     "text": [
      "Number of observations:  468\n"
     ]
    }
   ],
   "source": [
    "iquitos_dataset = pd.read_csv(\"dengueData/Iquitos/iquitos_training_data.csv\")\n",
    "iquitos_dataset.head()\n",
    "print(\"Number of observations: \", len(iquitos_dataset))"
   ]
  },
  {
   "cell_type": "code",
   "execution_count": 3,
   "metadata": {},
   "outputs": [
    {
     "data": {
      "image/png": "[encoded data removed]",
      "text/plain": [
       "<Figure size 432x288 with 1 Axes>"
      ]
     },
     "metadata": {
      "needs_background": "light"
     },
     "output_type": "display_data"
    }
   ],
   "source": [
    "iquitos_dataset[\"total_cases\"].plot()\n",
    "plt.show()"
   ]
  },
  {
   "cell_type": "code",
   "execution_count": 4,
   "metadata": {},
   "outputs": [
    {
     "data": {
      "image/png": "[encoded data removed]",
      "text/plain": [
       "<Figure size 432x288 with 1 Axes>"
      ]
     },
     "metadata": {
      "needs_background": "light"
     },
     "output_type": "display_data"
    }
   ],
   "source": [
    "iquitos_dataset[\"total_cases\"].hist()\n",
    "plt.show()\n",
    "#Left skewed data"
   ]
  },
  {
   "cell_type": "markdown",
   "metadata": {},
   "source": [
    "## Baseline Arima "
   ]
  },
  {
   "cell_type": "code",
   "execution_count": 5,
   "metadata": {},
   "outputs": [],
   "source": [
    "from statsmodels.tsa.statespace.sarimax import SARIMAX"
   ]
  },
  {
   "cell_type": "code",
   "execution_count": null,
   "metadata": {},
   "outputs": [
    {
     "name": "stderr",
     "output_type": "stream",
     "text": [
      "E:\\Aplicaciones\\Anaconda3\\lib\\site-packages\\statsmodels\\tsa\\statespace\\representation.py:375: FutureWarning: Using a non-tuple sequence for multidimensional indexing is deprecated; use `arr[tuple(seq)]` instead of `arr[seq]`. In the future this will be interpreted as an array index, `arr[np.array(seq)]`, which will result either in an error or a different result.\n",
      "  return matrix[[slice(None)]*(matrix.ndim-1) + [0]]\n"
     ]
    },
    {
     "name": "stdout",
     "output_type": "stream",
     "text": [
      "Arima:  0 0 0 0 0 0 1 - AIC:  3768.260352103388\n",
      "Arima:  0 0 0 0 0 0 4 - AIC:  3768.260352103388\n",
      "Arima:  0 0 0 0 0 0 52 - AIC:  3768.260352103388\n",
      "Arima:  0 0 0 0 0 1 1 - AIC:  3454.40386889332\n",
      "Arima:  0 0 0 0 0 1 4 - AIC:  3565.9410624409174\n",
      "Arima:  0 0 0 0 0 1 52 - AIC:  3371.7030641055567\n",
      "Arima:  0 0 0 0 0 2 1 - AIC:  3346.2887746830356\n",
      "Arima:  0 0 0 0 0 2 4 - AIC:  3491.7898463903675\n",
      "Arima:  0 0 0 0 0 2 52 - AIC:  2941.9495255893685\n",
      "Arima:  0 0 0 0 1 0 1 - AIC:  3261.9586767439214\n",
      "Arima:  0 0 0 0 1 0 4 - AIC:  3566.773813583686\n",
      "Arima:  0 0 0 0 1 0 52 - AIC:  3456.7346158565524\n",
      "Arima:  0 0 0 0 1 1 1 - AIC:  3226.4060473521663\n",
      "Arima:  0 0 0 0 1 1 4 - AIC:  3495.831015544337\n",
      "Arima:  0 0 0 0 1 1 52 - AIC:  2873.8907329894064\n",
      "Arima:  0 0 0 0 1 2 1 - AIC:  3199.021141273839\n",
      "Arima:  0 0 0 0 1 2 4 - AIC:  3408.675177230982\n",
      "Arima:  0 0 0 0 1 2 52 - AIC:  11550.770718258867\n",
      "Arima:  0 0 0 0 2 0 1 - AIC:  3655.005439608117\n",
      "Arima:  0 0 0 0 2 0 4 - AIC:  3949.8197661796066\n",
      "Arima:  0 0 0 0 2 0 52 - AIC:  3460.1553621340827\n",
      "Arima:  0 0 0 0 2 1 1 - AIC:  3257.010711379402\n",
      "Arima:  0 0 0 0 2 1 4 - AIC:  3530.939039363039\n",
      "Arima:  0 0 0 0 2 1 52 - AIC:  2710.359541365414\n",
      "Arima:  0 0 0 0 2 2 1 - AIC:  3221.974332892205\n"
     ]
    },
    {
     "name": "stderr",
     "output_type": "stream",
     "text": [
      "E:\\Aplicaciones\\Anaconda3\\lib\\site-packages\\statsmodels\\base\\model.py:508: ConvergenceWarning: Maximum Likelihood optimization failed to converge. Check mle_retvals\n",
      "  \"Check mle_retvals\", ConvergenceWarning)\n"
     ]
    },
    {
     "name": "stdout",
     "output_type": "stream",
     "text": [
      "Arima:  0 0 0 0 2 2 4 - AIC:  3461.973082155531\n"
     ]
    },
    {
     "name": "stderr",
     "output_type": "stream",
     "text": [
      "E:\\Aplicaciones\\Anaconda3\\lib\\site-packages\\statsmodels\\base\\model.py:508: ConvergenceWarning: Maximum Likelihood optimization failed to converge. Check mle_retvals\n",
      "  \"Check mle_retvals\", ConvergenceWarning)\n"
     ]
    },
    {
     "name": "stdout",
     "output_type": "stream",
     "text": [
      "Arima:  0 0 0 0 2 2 52 - AIC:  10350.595199808751\n",
      "Arima:  0 0 0 1 0 0 1 - AIC:  3228.152591294151\n",
      "Arima:  0 0 0 1 0 0 4 - AIC:  3488.008272375142\n",
      "Arima:  0 0 0 1 0 0 52 - AIC:  3352.0794292671894\n",
      "Arima:  0 0 0 1 0 1 1 - AIC:  3213.7713487855635\n",
      "Arima:  0 0 0 1 0 1 4 - AIC:  3481.0448179112236\n",
      "Arima:  0 0 0 1 0 1 52 - AIC:  3266.0430128194257\n",
      "Arima:  0 0 0 1 0 2 1 - AIC:  3193.824796229184\n",
      "Arima:  0 0 0 1 0 2 4 - AIC:  3432.6385941820317\n",
      "Arima:  0 0 0 1 0 2 52 - AIC:  2878.5948811251546\n",
      "Arima:  0 0 0 1 1 0 1 - AIC:  3248.68229891297\n",
      "Arima:  0 0 0 1 1 0 4 - AIC:  3525.533970704386\n",
      "Arima:  0 0 0 1 1 0 52 - AIC:  2900.3670541201736\n",
      "Arima:  0 0 0 1 1 1 1 - AIC:  3201.170117379729\n",
      "Arima:  0 0 0 1 1 1 4 - AIC:  3424.813311404948\n",
      "Arima:  0 0 0 1 1 1 52 - AIC:  2863.2572802208115\n",
      "Arima:  0 0 0 1 1 2 1 - AIC:  3200.9824376569813\n",
      "Arima:  0 0 0 1 1 2 4 - AIC:  3397.2666723686193\n"
     ]
    },
    {
     "name": "stderr",
     "output_type": "stream",
     "text": [
      "E:\\Aplicaciones\\Anaconda3\\lib\\site-packages\\statsmodels\\base\\model.py:508: ConvergenceWarning: Maximum Likelihood optimization failed to converge. Check mle_retvals\n",
      "  \"Check mle_retvals\", ConvergenceWarning)\n"
     ]
    },
    {
     "name": "stdout",
     "output_type": "stream",
     "text": [
      "Arima:  0 0 0 1 1 2 52 - AIC:  10343.190977094404\n",
      "Arima:  0 0 0 1 2 0 1 - AIC:  3539.7122935376037\n",
      "Arima:  0 0 0 1 2 0 4 - AIC:  3782.6941481363947\n",
      "Arima:  0 0 0 1 2 0 52 - AIC:  2721.4452266882136\n",
      "Arima:  0 0 0 1 2 1 1 - AIC:  3244.20086829528\n",
      "Arima:  0 0 0 1 2 1 4 - AIC:  3512.284935355292\n",
      "Arima:  0 0 0 1 2 1 52 - AIC:  2607.063305728332\n",
      "Arima:  0 0 0 1 2 2 1 - AIC:  3202.0131041048244\n",
      "Arima:  0 0 0 1 2 2 4 - AIC:  3404.522576703633\n",
      "Arima:  0 0 0 1 2 2 52 - AIC:  15875.366472702332\n",
      "Arima:  0 0 0 2 0 0 1 - AIC:  3219.30702980961\n",
      "Arima:  0 0 0 2 0 0 4 - AIC:  3462.309168861852\n",
      "Arima:  0 0 0 2 0 0 52 - AIC:  2892.2550820417596\n",
      "Arima:  0 0 0 2 0 1 1 - AIC:  3208.20284655044\n",
      "Arima:  0 0 0 2 0 1 4 - AIC:  3430.06274727246\n",
      "Arima:  0 0 0 2 0 1 52 - AIC:  2871.216104945801\n",
      "Arima:  0 0 0 2 0 2 1 - AIC:  3195.143825734678\n",
      "Arima:  0 0 0 2 0 2 4 - AIC:  3422.697983724859\n",
      "Arima:  0 0 0 2 0 2 52 - AIC:  2861.3075657767486\n",
      "Arima:  0 0 0 2 1 0 1 - AIC:  3204.8758550639313\n",
      "Arima:  0 0 0 2 1 0 4 - AIC:  3477.6678915982225\n",
      "Arima:  0 0 0 2 1 0 52 - AIC:  2462.028036614582\n",
      "Arima:  0 0 0 2 1 1 1 - AIC:  3204.4692313767296\n",
      "Arima:  0 0 0 2 1 1 4 - AIC:  3405.4150835794007\n",
      "Arima:  0 0 0 2 1 1 52 - AIC:  2450.1831409783294\n",
      "Arima:  0 0 0 2 1 2 1 - AIC:  3199.665883971311\n",
      "Arima:  0 0 0 2 1 2 4 - AIC:  3400.212545801148\n",
      "Arima:  0 0 0 2 1 2 52 - AIC:  9797.256294771105\n",
      "Arima:  0 0 0 2 2 0 1 - AIC:  3416.769341719172\n",
      "Arima:  0 0 0 2 2 0 4 - AIC:  3680.398873334456\n",
      "Arima:  0 0 0 2 2 0 52 - AIC:  2209.9953186557095\n",
      "Arima:  0 0 0 2 2 1 1 - AIC:  3207.1352837263057\n",
      "Arima:  0 0 0 2 2 1 4 - AIC:  3472.107901237496\n",
      "Arima:  0 0 0 2 2 1 52 - AIC:  2169.6351800307884\n",
      "Arima:  0 0 0 2 2 2 1 - AIC:  3200.4075937167336\n",
      "Arima:  0 0 0 2 2 2 4 - AIC:  3405.084644888312\n"
     ]
    },
    {
     "name": "stderr",
     "output_type": "stream",
     "text": [
      "E:\\Aplicaciones\\Anaconda3\\lib\\site-packages\\statsmodels\\base\\model.py:508: ConvergenceWarning: Maximum Likelihood optimization failed to converge. Check mle_retvals\n",
      "  \"Check mle_retvals\", ConvergenceWarning)\n"
     ]
    },
    {
     "name": "stdout",
     "output_type": "stream",
     "text": [
      "Arima:  0 0 0 2 2 2 52 - AIC:  16960.85894365234\n",
      "Arima:  0 0 1 0 0 0 1 - AIC:  3454.40386889332\n",
      "Arima:  0 0 1 0 0 0 4 - AIC:  3454.40386889332\n",
      "Arima:  0 0 1 0 0 0 52 - AIC:  3454.40386889332\n",
      "Arima:  0 0 1 0 0 1 1 - AIC:  3389.4254412419305\n",
      "Arima:  0 0 1 0 0 1 4 - AIC:  3315.524668469462\n",
      "Arima:  0 0 1 0 0 1 52 - AIC:  3101.9506076056177\n",
      "Arima:  0 0 1 0 0 2 1 - AIC:  3315.745556567571\n",
      "Arima:  0 0 1 0 0 2 4 - AIC:  3270.5426174706954\n",
      "Arima:  0 0 1 0 0 2 52 - AIC:  2714.9507955452536\n",
      "Arima:  0 0 1 0 1 0 1 - AIC:  3226.4060473521663\n",
      "Arima:  0 0 1 0 1 0 4 - AIC:  3401.3344587367123\n",
      "Arima:  0 0 1 0 1 0 52 - AIC:  3223.5138534533758\n",
      "Arima:  0 0 1 0 1 1 1 - AIC:  3228.105698984974\n",
      "Arima:  0 0 1 0 1 1 4 - AIC:  3279.2549376327565\n",
      "Arima:  0 0 1 0 1 1 52 - AIC:  2675.16503098559\n",
      "Arima:  0 0 1 0 1 2 1 - AIC:  3195.0919299339184\n",
      "Arima:  0 0 1 0 1 2 4 - AIC:  3201.2581672301994\n"
     ]
    },
    {
     "name": "stderr",
     "output_type": "stream",
     "text": [
      "E:\\Aplicaciones\\Anaconda3\\lib\\site-packages\\statsmodels\\base\\model.py:508: ConvergenceWarning: Maximum Likelihood optimization failed to converge. Check mle_retvals\n",
      "  \"Check mle_retvals\", ConvergenceWarning)\n"
     ]
    },
    {
     "name": "stdout",
     "output_type": "stream",
     "text": [
      "Arima:  0 0 1 0 1 2 52 - AIC:  11029.483077454439\n",
      "Arima:  0 0 1 0 2 0 1 - AIC:  3257.010711379402\n",
      "Arima:  0 0 1 0 2 0 4 - AIC:  3753.4899890869156\n",
      "Arima:  0 0 1 0 2 0 52 - AIC:  3248.698600262325\n",
      "Arima:  0 0 1 0 2 1 1 - AIC:  3284.1851251663707\n",
      "Arima:  0 0 1 0 2 1 4 - AIC:  3367.9987988493917\n",
      "Arima:  0 0 1 0 2 1 52 - AIC:  2534.7261319197464\n",
      "Arima:  0 0 1 0 2 2 1 - AIC:  3195.1777972337486\n",
      "Arima:  0 0 1 0 2 2 4 - AIC:  3257.189801129258\n"
     ]
    },
    {
     "name": "stderr",
     "output_type": "stream",
     "text": [
      "E:\\Aplicaciones\\Anaconda3\\lib\\site-packages\\statsmodels\\base\\model.py:508: ConvergenceWarning: Maximum Likelihood optimization failed to converge. Check mle_retvals\n",
      "  \"Check mle_retvals\", ConvergenceWarning)\n"
     ]
    },
    {
     "name": "stdout",
     "output_type": "stream",
     "text": [
      "Arima:  0 0 1 0 2 2 52 - AIC:  10425.39851390765\n",
      "Arima:  0 0 1 1 0 0 1 - AIC:  3213.771348793541\n",
      "Arima:  0 0 1 1 0 0 4 - AIC:  3292.265642331709\n",
      "Arima:  0 0 1 1 0 0 52 - AIC:  3100.226803949951\n",
      "Arima:  0 0 1 1 0 1 1 - AIC:  3193.824796187794\n",
      "Arima:  0 0 1 1 0 1 4 - AIC:  3279.734099387649\n",
      "Arima:  0 0 1 1 0 1 52 - AIC:  3043.942080585165\n",
      "Arima:  0 0 1 1 0 2 1 - AIC:  3188.3862224071663\n",
      "Arima:  0 0 1 1 0 2 4 - AIC:  3226.8880366490143\n",
      "Arima:  0 0 1 1 0 2 52 - AIC:  2689.9001042677955\n",
      "Arima:  0 0 1 1 1 0 1 - AIC:  3201.170117217813\n",
      "Arima:  0 0 1 1 1 0 4 - AIC:  3352.7797896812936\n",
      "Arima:  0 0 1 1 1 0 52 - AIC:  2718.6090767528044\n",
      "Arima:  0 0 1 1 1 1 1 - AIC:  3200.9824372699823\n",
      "Arima:  0 0 1 1 1 1 4 - AIC:  3225.904298128073\n",
      "Arima:  0 0 1 1 1 1 52 - AIC:  2677.1545566114128\n",
      "Arima:  0 0 1 1 1 2 1 - AIC:  3197.089396842807\n",
      "Arima:  0 0 1 1 1 2 4 - AIC:  3200.393628837299\n"
     ]
    },
    {
     "name": "stderr",
     "output_type": "stream",
     "text": [
      "E:\\Aplicaciones\\Anaconda3\\lib\\site-packages\\statsmodels\\base\\model.py:508: ConvergenceWarning: Maximum Likelihood optimization failed to converge. Check mle_retvals\n",
      "  \"Check mle_retvals\", ConvergenceWarning)\n"
     ]
    },
    {
     "name": "stdout",
     "output_type": "stream",
     "text": [
      "Arima:  0 0 1 1 1 2 52 - AIC:  11207.15564886956\n",
      "Arima:  0 0 1 1 2 0 1 - AIC:  3244.2008693798252\n",
      "Arima:  0 0 1 1 2 0 4 - AIC:  3631.217681254547\n",
      "Arima:  0 0 1 1 2 0 52 - AIC:  2566.6696454176245\n",
      "Arima:  0 0 1 1 2 1 1 - AIC:  3202.1624727484123\n",
      "Arima:  0 0 1 1 2 1 4 - AIC:  3334.508941155036\n",
      "Arima:  0 0 1 1 2 1 52 - AIC:  2448.6443354055946\n",
      "Arima:  0 0 1 1 2 2 1 - AIC:  3197.043449607515\n",
      "Arima:  0 0 1 1 2 2 4 - AIC:  3208.969352688974\n",
      "Arima:  0 0 1 1 2 2 52 - AIC:  17197.41710969206\n",
      "Arima:  0 0 1 2 0 0 1 - AIC:  3207.8638430463557\n",
      "Arima:  0 0 1 2 0 0 4 - AIC:  3268.5777113389854\n",
      "Arima:  0 0 1 2 0 0 52 - AIC:  2698.5448065106825\n",
      "Arima:  0 0 1 2 0 1 1 - AIC:  3195.1438257896743\n",
      "Arima:  0 0 1 2 0 1 4 - AIC:  3239.0061272273147\n",
      "Arima:  0 0 1 2 0 1 52 - AIC:  2691.5539939710425\n",
      "Arima:  0 0 1 2 0 2 1 - AIC:  3190.5050990284094\n",
      "Arima:  0 0 1 2 0 2 4 - AIC:  3226.2265332901843\n",
      "Arima:  0 0 1 2 0 2 52 - AIC:  2675.7423683172447\n",
      "Arima:  0 0 1 2 1 0 1 - AIC:  3204.4692314069184\n",
      "Arima:  0 0 1 2 1 0 4 - AIC:  3298.472250726408\n",
      "Arima:  0 0 1 2 1 0 52 - AIC:  2309.789780819192\n",
      "Arima:  0 0 1 2 1 1 1 - AIC:  3200.4398422312565\n",
      "Arima:  0 0 1 2 1 1 4 - AIC:  3214.4662284095475\n",
      "Arima:  0 0 1 2 1 1 52 - AIC:  2296.443783260824\n",
      "Arima:  0 0 1 2 1 2 1 - AIC:  3190.554041396833\n",
      "Arima:  0 0 1 2 1 2 4 - AIC:  3202.3935954529243\n",
      "Arima:  0 0 1 2 1 2 52 - AIC:  11129.671757851294\n",
      "Arima:  0 0 1 2 2 0 1 - AIC:  3207.1352831664794\n",
      "Arima:  0 0 1 2 2 0 4 - AIC:  3521.532862257038\n",
      "Arima:  0 0 1 2 2 0 52 - AIC:  2086.092912477689\n",
      "Arima:  0 0 1 2 2 1 1 - AIC:  3200.407592114637\n",
      "Arima:  0 0 1 2 2 1 4 - AIC:  3294.8134638552056\n",
      "Arima:  0 0 1 2 2 1 52 - AIC:  2043.5231372585104\n",
      "Arima:  0 0 1 2 2 2 1 - AIC:  3198.664972032743\n",
      "Arima:  0 0 1 2 2 2 4 - AIC:  3210.828451049553\n"
     ]
    },
    {
     "name": "stderr",
     "output_type": "stream",
     "text": [
      "E:\\Aplicaciones\\Anaconda3\\lib\\site-packages\\statsmodels\\base\\model.py:508: ConvergenceWarning: Maximum Likelihood optimization failed to converge. Check mle_retvals\n",
      "  \"Check mle_retvals\", ConvergenceWarning)\n"
     ]
    },
    {
     "name": "stdout",
     "output_type": "stream",
     "text": [
      "Arima:  0 0 1 2 2 2 52 - AIC:  17096.990581549857\n",
      "Arima:  0 0 2 0 0 0 1 - AIC:  3346.2887746830356\n",
      "Arima:  0 0 2 0 0 0 4 - AIC:  3346.2887746830356\n",
      "Arima:  0 0 2 0 0 0 52 - AIC:  3346.2887746830356\n",
      "Arima:  0 0 2 0 0 1 1 - AIC:  3315.7455569332637\n",
      "Arima:  0 0 2 0 0 1 4 - AIC:  3279.4086892287014\n",
      "Arima:  0 0 2 0 0 1 52 - AIC:  3012.1689843668446\n",
      "Arima:  0 0 2 0 0 2 1 - AIC:  3310.6732264268694\n",
      "Arima:  0 0 2 0 0 2 4 - AIC:  3241.0845012681866\n",
      "Arima:  0 0 2 0 0 2 52 - AIC:  2641.809830135923\n",
      "Arima:  0 0 2 0 1 0 1 - AIC:  3199.021141273839\n",
      "Arima:  0 0 2 0 1 0 4 - AIC:  3394.5231426226455\n",
      "Arima:  0 0 2 0 1 0 52 - AIC:  3165.3540552802515\n",
      "Arima:  0 0 2 0 1 1 1 - AIC:  3195.091929984611\n",
      "Arima:  0 0 2 0 1 1 4 - AIC:  3220.040343044124\n",
      "Arima:  0 0 2 0 1 1 52 - AIC:  2620.2233813156486\n",
      "Arima:  0 0 2 0 1 2 1 - AIC:  3191.0943593438433\n",
      "Arima:  0 0 2 0 1 2 4 - AIC:  3173.984878984852\n"
     ]
    },
    {
     "name": "stderr",
     "output_type": "stream",
     "text": [
      "E:\\Aplicaciones\\Anaconda3\\lib\\site-packages\\statsmodels\\base\\model.py:508: ConvergenceWarning: Maximum Likelihood optimization failed to converge. Check mle_retvals\n",
      "  \"Check mle_retvals\", ConvergenceWarning)\n"
     ]
    },
    {
     "name": "stdout",
     "output_type": "stream",
     "text": [
      "Arima:  0 0 2 0 1 2 52 - AIC:  11020.704519675008\n",
      "Arima:  0 0 2 0 2 0 1 - AIC:  3221.974332892205\n",
      "Arima:  0 0 2 0 2 0 4 - AIC:  3730.0608167565124\n",
      "Arima:  0 0 2 0 2 0 52 - AIC:  3195.05894372488\n",
      "Arima:  0 0 2 0 2 1 1 - AIC:  3195.1777975535106\n",
      "Arima:  0 0 2 0 2 1 4 - AIC:  3360.774146940661\n",
      "Arima:  0 0 2 0 2 1 52 - AIC:  2490.279772179638\n",
      "Arima:  0 0 2 0 2 2 1 - AIC:  3191.1826162919097\n",
      "Arima:  0 0 2 0 2 2 4 - AIC:  3201.743707937201\n",
      "Arima:  0 0 2 0 2 2 52 - AIC:  8836.580961614089\n",
      "Arima:  0 0 2 1 0 0 1 - AIC:  3193.824796444528\n",
      "Arima:  0 0 2 1 0 0 4 - AIC:  3274.689733754896\n",
      "Arima:  0 0 2 1 0 0 52 - AIC:  3023.35079942367\n",
      "Arima:  0 0 2 1 0 1 1 - AIC:  3188.5277100538374\n",
      "Arima:  0 0 2 1 0 1 4 - AIC:  3248.854765295599\n",
      "Arima:  0 0 2 1 0 1 52 - AIC:  2982.8964256391337\n",
      "Arima:  0 0 2 1 0 2 1 - AIC:  3184.524843980339\n",
      "Arima:  0 0 2 1 0 2 4 - AIC:  3199.098862765689\n",
      "Arima:  0 0 2 1 0 2 52 - AIC:  2637.867066701739\n",
      "Arima:  0 0 2 1 1 0 1 - AIC:  3200.98243672701\n",
      "Arima:  0 0 2 1 1 0 4 - AIC:  3337.0420674113043\n",
      "Arima:  0 0 2 1 1 0 52 - AIC:  2680.6071689494675\n",
      "Arima:  0 0 2 1 1 1 1 - AIC:  3179.260990341556\n",
      "Arima:  0 0 2 1 1 1 4 - AIC:  3197.4298289977255\n",
      "Arima:  0 0 2 1 1 1 52 - AIC:  2630.4277989353677\n",
      "Arima:  0 0 2 1 1 2 1 - AIC:  3192.9604379036073\n",
      "Arima:  0 0 2 1 1 2 4 - AIC:  3174.558230430909\n"
     ]
    },
    {
     "name": "stderr",
     "output_type": "stream",
     "text": [
      "E:\\Aplicaciones\\Anaconda3\\lib\\site-packages\\statsmodels\\base\\model.py:508: ConvergenceWarning: Maximum Likelihood optimization failed to converge. Check mle_retvals\n",
      "  \"Check mle_retvals\", ConvergenceWarning)\n"
     ]
    },
    {
     "name": "stdout",
     "output_type": "stream",
     "text": [
      "Arima:  0 0 2 1 1 2 52 - AIC:  11205.47351315755\n",
      "Arima:  0 0 2 1 2 0 1 - AIC:  3202.012247817844\n",
      "Arima:  0 0 2 1 2 0 4 - AIC:  3623.1031132935304\n",
      "Arima:  0 0 2 1 2 0 52 - AIC:  2543.4316137111327\n",
      "Arima:  0 0 2 1 2 1 1 - AIC:  3197.043449854707\n",
      "Arima:  0 0 2 1 2 1 4 - AIC:  3311.724868864198\n",
      "Arima:  0 0 2 1 2 1 52 - AIC:  2412.2533684256096\n"
     ]
    },
    {
     "name": "stderr",
     "output_type": "stream",
     "text": [
      "E:\\Aplicaciones\\Anaconda3\\lib\\site-packages\\statsmodels\\base\\model.py:508: ConvergenceWarning: Maximum Likelihood optimization failed to converge. Check mle_retvals\n",
      "  \"Check mle_retvals\", ConvergenceWarning)\n"
     ]
    },
    {
     "name": "stdout",
     "output_type": "stream",
     "text": [
      "Arima:  0 0 2 1 2 2 1 - AIC:  3192.7559059301284\n",
      "Arima:  0 0 2 1 2 2 4 - AIC:  3180.7746206880392\n"
     ]
    },
    {
     "name": "stderr",
     "output_type": "stream",
     "text": [
      "E:\\Aplicaciones\\Anaconda3\\lib\\site-packages\\statsmodels\\base\\model.py:508: ConvergenceWarning: Maximum Likelihood optimization failed to converge. Check mle_retvals\n",
      "  \"Check mle_retvals\", ConvergenceWarning)\n"
     ]
    },
    {
     "name": "stdout",
     "output_type": "stream",
     "text": [
      "Arima:  0 0 2 1 2 2 52 - AIC:  17113.295198116502\n",
      "Arima:  0 0 2 2 0 0 1 - AIC:  3195.143825678651\n",
      "Arima:  0 0 2 2 0 0 4 - AIC:  3247.2644532461636\n",
      "Arima:  0 0 2 2 0 0 52 - AIC:  2645.0030380594244\n"
     ]
    },
    {
     "name": "stderr",
     "output_type": "stream",
     "text": [
      "E:\\Aplicaciones\\Anaconda3\\lib\\site-packages\\statsmodels\\base\\model.py:508: ConvergenceWarning: Maximum Likelihood optimization failed to converge. Check mle_retvals\n",
      "  \"Check mle_retvals\", ConvergenceWarning)\n"
     ]
    },
    {
     "name": "stdout",
     "output_type": "stream",
     "text": [
      "Arima:  0 0 2 2 0 1 1 - AIC:  3191.9672740238793\n",
      "Arima:  0 0 2 2 0 1 4 - AIC:  3216.8598135705392\n",
      "Arima:  0 0 2 2 0 1 52 - AIC:  2645.2209002208438\n",
      "Arima:  0 0 2 2 0 2 1 - AIC:  3186.7343549741418\n"
     ]
    },
    {
     "name": "stderr",
     "output_type": "stream",
     "text": [
      "E:\\Aplicaciones\\Anaconda3\\lib\\site-packages\\statsmodels\\base\\model.py:508: ConvergenceWarning: Maximum Likelihood optimization failed to converge. Check mle_retvals\n",
      "  \"Check mle_retvals\", ConvergenceWarning)\n"
     ]
    },
    {
     "name": "stdout",
     "output_type": "stream",
     "text": [
      "Arima:  0 0 2 2 0 2 4 - AIC:  3200.1334905702433\n",
      "Arima:  0 0 2 2 0 2 52 - AIC:  2625.521157279246\n",
      "Arima:  0 0 2 2 1 0 1 - AIC:  3199.665884355555\n",
      "Arima:  0 0 2 2 1 0 4 - AIC:  3284.067450798068\n",
      "Arima:  0 0 2 2 1 0 52 - AIC:  2283.6432917019424\n",
      "Arima:  0 0 2 2 1 1 1 - AIC:  3190.5540413868985\n",
      "Arima:  0 0 2 2 1 1 4 - AIC:  3192.925572518781\n",
      "Arima:  0 0 2 2 1 1 52 - AIC:  2267.241228821441\n",
      "Arima:  0 0 2 2 1 2 1 - AIC:  3186.4275899877084\n",
      "Arima:  0 0 2 2 1 2 4 - AIC:  3176.309426031956\n"
     ]
    },
    {
     "name": "stderr",
     "output_type": "stream",
     "text": [
      "E:\\Aplicaciones\\Anaconda3\\lib\\site-packages\\statsmodels\\base\\model.py:508: ConvergenceWarning: Maximum Likelihood optimization failed to converge. Check mle_retvals\n",
      "  \"Check mle_retvals\", ConvergenceWarning)\n"
     ]
    },
    {
     "name": "stdout",
     "output_type": "stream",
     "text": [
      "Arima:  0 0 2 2 1 2 52 - AIC:  11130.031572720949\n",
      "Arima:  0 0 2 2 2 0 1 - AIC:  3200.407593072622\n",
      "Arima:  0 0 2 2 2 0 4 - AIC:  3512.703460621968\n",
      "Arima:  0 0 2 2 2 0 52 - AIC:  2070.482418293993\n",
      "Arima:  0 0 2 2 2 1 1 - AIC:  3195.9116176465745\n",
      "Arima:  0 0 2 2 2 1 4 - AIC:  3280.0850467646505\n",
      "Arima:  0 0 2 2 2 1 52 - AIC:  2025.2809448022026\n"
     ]
    },
    {
     "name": "stderr",
     "output_type": "stream",
     "text": [
      "E:\\Aplicaciones\\Anaconda3\\lib\\site-packages\\statsmodels\\base\\model.py:508: ConvergenceWarning: Maximum Likelihood optimization failed to converge. Check mle_retvals\n",
      "  \"Check mle_retvals\", ConvergenceWarning)\n"
     ]
    },
    {
     "name": "stdout",
     "output_type": "stream",
     "text": [
      "Arima:  0 0 2 2 2 2 1 - AIC:  3187.226177933717\n"
     ]
    },
    {
     "name": "stderr",
     "output_type": "stream",
     "text": [
      "E:\\Aplicaciones\\Anaconda3\\lib\\site-packages\\statsmodels\\base\\model.py:508: ConvergenceWarning: Maximum Likelihood optimization failed to converge. Check mle_retvals\n",
      "  \"Check mle_retvals\", ConvergenceWarning)\n"
     ]
    },
    {
     "name": "stdout",
     "output_type": "stream",
     "text": [
      "Arima:  0 0 2 2 2 2 4 - AIC:  3182.7763533392927\n",
      "Arima:  0 0 2 2 2 2 52 - AIC:  17644.636152918392\n",
      "Arima:  0 1 0 0 0 0 1 - AIC:  3261.9586767439214\n",
      "Arima:  0 1 0 0 0 0 4 - AIC:  3261.9586767439214\n",
      "Arima:  0 1 0 0 0 0 52 - AIC:  3261.9586767439214\n",
      "Arima:  0 1 0 0 0 1 1 - AIC:  3226.4060473521663\n",
      "Arima:  0 1 0 0 0 1 4 - AIC:  3231.126554829695\n",
      "Arima:  0 1 0 0 0 1 52 - AIC:  2945.903281930479\n",
      "Arima:  0 1 0 0 0 2 1 - AIC:  3199.021141273839\n",
      "Arima:  0 1 0 0 0 2 4 - AIC:  3209.162897966833\n",
      "Arima:  0 1 0 0 0 2 52 - AIC:  2603.201846601808\n",
      "Arima:  0 1 0 0 1 0 1 - AIC:  3655.005439608117\n",
      "Arima:  0 1 0 0 1 0 4 - AIC:  3490.86195903477\n",
      "Arima:  0 1 0 0 1 0 52 - AIC:  3163.9303679215336\n",
      "Arima:  0 1 0 0 1 1 1 - AIC:  3257.010711379402\n",
      "Arima:  0 1 0 0 1 1 4 - AIC:  3219.7675996751273\n",
      "Arima:  0 1 0 0 1 1 52 - AIC:  2617.395241548354\n",
      "Arima:  0 1 0 0 1 2 1 - AIC:  3221.974332892205\n",
      "Arima:  0 1 0 0 1 2 4 - AIC:  3191.578048129102\n",
      "Arima:  0 1 0 0 1 2 52 - AIC:  12210.896100939392\n",
      "Arima:  0 1 0 0 2 0 1 - AIC:  4149.132330637781\n",
      "Arima:  0 1 0 0 2 0 4 - AIC:  3940.2701057861696\n",
      "Arima:  0 1 0 0 2 0 52 - AIC:  3196.6808897561364\n",
      "Arima:  0 1 0 0 2 1 1 - AIC:  3648.3345761314513\n",
      "Arima:  0 1 0 0 2 1 4 - AIC:  3456.196476094018\n",
      "Arima:  0 1 0 0 2 1 52 - AIC:  2504.609011403247\n",
      "Arima:  0 1 0 0 2 2 1 - AIC:  3257.4869881762324\n",
      "Arima:  0 1 0 0 2 2 4 - AIC:  3204.7258339180403\n"
     ]
    },
    {
     "name": "stderr",
     "output_type": "stream",
     "text": [
      "E:\\Aplicaciones\\Anaconda3\\lib\\site-packages\\statsmodels\\base\\model.py:508: ConvergenceWarning: Maximum Likelihood optimization failed to converge. Check mle_retvals\n",
      "  \"Check mle_retvals\", ConvergenceWarning)\n"
     ]
    },
    {
     "name": "stdout",
     "output_type": "stream",
     "text": [
      "Arima:  0 1 0 0 2 2 52 - AIC:  9555.726961293867\n",
      "Arima:  0 1 0 1 0 0 1 - AIC:  3248.68229891297\n",
      "Arima:  0 1 0 1 0 0 4 - AIC:  3237.393477409751\n",
      "Arima:  0 1 0 1 0 0 52 - AIC:  2950.7006639458023\n",
      "Arima:  0 1 0 1 0 1 1 - AIC:  3201.170117379729\n",
      "Arima:  0 1 0 1 0 1 4 - AIC:  3233.1246255357537\n",
      "Arima:  0 1 0 1 0 1 52 - AIC:  2945.0853724419053\n",
      "Arima:  0 1 0 1 0 2 1 - AIC:  3200.9824376569813\n",
      "Arima:  0 1 0 1 0 2 4 - AIC:  3211.080656381273\n",
      "Arima:  0 1 0 1 0 2 52 - AIC:  2604.8180746930666\n",
      "Arima:  0 1 0 1 1 0 1 - AIC:  3539.7122935376037\n",
      "Arima:  0 1 0 1 1 0 4 - AIC:  3387.316456635404\n",
      "Arima:  0 1 0 1 1 0 52 - AIC:  2685.901055320036\n",
      "Arima:  0 1 0 1 1 1 1 - AIC:  3244.20086829528\n",
      "Arima:  0 1 0 1 1 1 4 - AIC:  3218.8279835168296\n",
      "Arima:  0 1 0 1 1 1 52 - AIC:  2619.3891750063294\n",
      "Arima:  0 1 0 1 1 2 1 - AIC:  3202.0131041048244\n",
      "Arima:  0 1 0 1 1 2 4 - AIC:  3193.12590605244\n",
      "Arima:  0 1 0 1 1 2 52 - AIC:  12230.412449101084\n",
      "Arima:  0 1 0 1 2 0 1 - AIC:  3934.4567359733874\n",
      "Arima:  0 1 0 1 2 0 4 - AIC:  3699.7351404249807\n",
      "Arima:  0 1 0 1 2 0 52 - AIC:  2566.372237903979\n",
      "Arima:  0 1 0 1 2 1 1 - AIC:  3533.9481985321554\n",
      "Arima:  0 1 0 1 2 1 4 - AIC:  3375.695296378948\n",
      "Arima:  0 1 0 1 2 1 52 - AIC:  2436.868584774618\n",
      "Arima:  0 1 0 1 2 2 1 - AIC:  3245.515707872869\n",
      "Arima:  0 1 0 1 2 2 4 - AIC:  3206.54430171918\n"
     ]
    },
    {
     "name": "stderr",
     "output_type": "stream",
     "text": [
      "E:\\Aplicaciones\\Anaconda3\\lib\\site-packages\\statsmodels\\base\\model.py:508: ConvergenceWarning: Maximum Likelihood optimization failed to converge. Check mle_retvals\n",
      "  \"Check mle_retvals\", ConvergenceWarning)\n"
     ]
    },
    {
     "name": "stdout",
     "output_type": "stream",
     "text": [
      "Arima:  0 1 0 1 2 2 52 - AIC:  9015.583805401953\n",
      "Arima:  0 1 0 2 0 0 1 - AIC:  3204.8758550639313\n",
      "Arima:  0 1 0 2 0 0 4 - AIC:  3214.921000035663\n",
      "Arima:  0 1 0 2 0 0 52 - AIC:  2606.508131067947\n",
      "Arima:  0 1 0 2 0 1 1 - AIC:  3204.4692313767296\n",
      "Arima:  0 1 0 2 0 1 4 - AIC:  3216.895670379816\n",
      "Arima:  0 1 0 2 0 1 52 - AIC:  2608.506948742076\n",
      "Arima:  0 1 0 2 0 2 1 - AIC:  3199.665883971311\n",
      "Arima:  0 1 0 2 0 2 4 - AIC:  3212.469335104617\n"
     ]
    },
    {
     "name": "stderr",
     "output_type": "stream",
     "text": [
      "E:\\Aplicaciones\\Anaconda3\\lib\\site-packages\\statsmodels\\base\\model.py:508: ConvergenceWarning: Maximum Likelihood optimization failed to converge. Check mle_retvals\n",
      "  \"Check mle_retvals\", ConvergenceWarning)\n"
     ]
    },
    {
     "name": "stdout",
     "output_type": "stream",
     "text": [
      "Arima:  0 1 0 2 0 2 52 - AIC:  2604.4717172089563\n",
      "Arima:  0 1 0 2 1 0 1 - AIC:  3416.769341719172\n",
      "Arima:  0 1 0 2 1 0 4 - AIC:  3321.121851046093\n",
      "Arima:  0 1 0 2 1 0 52 - AIC:  2298.817514511772\n",
      "Arima:  0 1 0 2 1 1 1 - AIC:  3207.1352837263057\n",
      "Arima:  0 1 0 2 1 1 4 - AIC:  3200.7578235266196\n",
      "Arima:  0 1 0 2 1 1 52 - AIC:  2274.3854707196097\n",
      "Arima:  0 1 0 2 1 2 1 - AIC:  3200.4075937167336\n",
      "Arima:  0 1 0 2 1 2 4 - AIC:  3195.1248259900894\n"
     ]
    },
    {
     "name": "stderr",
     "output_type": "stream",
     "text": [
      "E:\\Aplicaciones\\Anaconda3\\lib\\site-packages\\statsmodels\\base\\model.py:508: ConvergenceWarning: Maximum Likelihood optimization failed to converge. Check mle_retvals\n",
      "  \"Check mle_retvals\", ConvergenceWarning)\n"
     ]
    },
    {
     "name": "stdout",
     "output_type": "stream",
     "text": [
      "Arima:  0 1 0 2 1 2 52 - AIC:  8785.784805400806\n",
      "Arima:  0 1 0 2 2 0 1 - AIC:  3770.9354629404816\n",
      "Arima:  0 1 0 2 2 0 4 - AIC:  3575.2882793143744\n",
      "Arima:  0 1 0 2 2 0 52 - AIC:  2092.7294172907655\n",
      "Arima:  0 1 0 2 2 1 1 - AIC:  3418.5558685430915\n",
      "Arima:  0 1 0 2 2 1 4 - AIC:  3316.876650741495\n",
      "Arima:  0 1 0 2 2 1 52 - AIC:  2044.963422094835\n",
      "Arima:  0 1 0 2 2 2 1 - AIC:  3209.564907315228\n",
      "Arima:  0 1 0 2 2 2 4 - AIC:  3204.9922555510075\n",
      "Arima:  0 1 0 2 2 2 52 - AIC:  10626.7690767852\n",
      "Arima:  0 1 1 0 0 0 1 - AIC:  3226.4060473521663\n",
      "Arima:  0 1 1 0 0 0 4 - AIC:  3226.4060473521663\n",
      "Arima:  0 1 1 0 0 0 52 - AIC:  3226.4060473521663\n",
      "Arima:  0 1 1 0 0 1 1 - AIC:  3228.105698984974\n",
      "Arima:  0 1 1 0 0 1 4 - AIC:  3199.6117105877192\n",
      "Arima:  0 1 1 0 0 1 52 - AIC:  2914.548569488953\n",
      "Arima:  0 1 1 0 0 2 1 - AIC:  3195.0919299339184\n",
      "Arima:  0 1 1 0 0 2 4 - AIC:  3177.7730997455874\n",
      "Arima:  0 1 1 0 0 2 52 - AIC:  2577.4868845870033\n",
      "Arima:  0 1 1 0 1 0 1 - AIC:  3257.010711379402\n",
      "Arima:  0 1 1 0 1 0 4 - AIC:  3468.1348049169646\n",
      "Arima:  0 1 1 0 1 0 52 - AIC:  3134.0079705559347\n",
      "Arima:  0 1 1 0 1 1 1 - AIC:  3284.1851251663707\n",
      "Arima:  0 1 1 0 1 1 4 - AIC:  3186.4568672466185\n",
      "Arima:  0 1 1 0 1 1 52 - AIC:  2590.8168239758793\n",
      "Arima:  0 1 1 0 1 2 1 - AIC:  3195.1777972337486\n",
      "Arima:  0 1 1 0 1 2 4 - AIC:  3161.042709645103\n",
      "Arima:  0 1 1 0 1 2 52 - AIC:  11579.459153559921\n",
      "Arima:  0 1 1 0 2 0 1 - AIC:  3648.3345761314513\n",
      "Arima:  0 1 1 0 2 0 4 - AIC:  3919.6786177883505\n",
      "Arima:  0 1 1 0 2 0 52 - AIC:  3170.2976793737707\n",
      "Arima:  0 1 1 0 2 1 1 - AIC:  3260.1288305591224\n",
      "Arima:  0 1 1 0 2 1 4 - AIC:  3433.3516626897863\n",
      "Arima:  0 1 1 0 2 1 52 - AIC:  2483.3958402302396\n",
      "Arima:  0 1 1 0 2 2 1 - AIC:  3225.6528101498625\n",
      "Arima:  0 1 1 0 2 2 4 - AIC:  3172.6753546856507\n"
     ]
    },
    {
     "name": "stderr",
     "output_type": "stream",
     "text": [
      "E:\\Aplicaciones\\Anaconda3\\lib\\site-packages\\statsmodels\\base\\model.py:508: ConvergenceWarning: Maximum Likelihood optimization failed to converge. Check mle_retvals\n",
      "  \"Check mle_retvals\", ConvergenceWarning)\n"
     ]
    },
    {
     "name": "stdout",
     "output_type": "stream",
     "text": [
      "Arima:  0 1 1 0 2 2 52 - AIC:  8732.825753769044\n",
      "Arima:  0 1 1 1 0 0 1 - AIC:  3201.170117217813\n",
      "Arima:  0 1 1 1 0 0 4 - AIC:  3211.789195461947\n",
      "Arima:  0 1 1 1 0 0 52 - AIC:  2925.6898790437185\n",
      "Arima:  0 1 1 1 0 1 1 - AIC:  3200.9824372699823\n",
      "Arima:  0 1 1 1 0 1 4 - AIC:  3201.5976096821005\n",
      "Arima:  0 1 1 1 0 1 52 - AIC:  2914.27702406718\n",
      "Arima:  0 1 1 1 0 2 1 - AIC:  3197.089396842807\n",
      "Arima:  0 1 1 1 0 2 4 - AIC:  3179.682861113722\n",
      "Arima:  0 1 1 1 0 2 52 - AIC:  2579.0875265477985\n",
      "Arima:  0 1 1 1 1 0 1 - AIC:  3244.2008693798252\n",
      "Arima:  0 1 1 1 1 0 4 - AIC:  3365.914687720071\n",
      "Arima:  0 1 1 1 1 0 52 - AIC:  2664.1944387714702\n",
      "Arima:  0 1 1 1 1 1 1 - AIC:  3202.1624727484123\n",
      "Arima:  0 1 1 1 1 1 4 - AIC:  3187.103752168044\n",
      "Arima:  0 1 1 1 1 1 52 - AIC:  2592.809282968779\n",
      "Arima:  0 1 1 1 1 2 1 - AIC:  3197.043449607515\n",
      "Arima:  0 1 1 1 1 2 4 - AIC:  3162.4271575742096\n"
     ]
    },
    {
     "name": "stderr",
     "output_type": "stream",
     "text": [
      "E:\\Aplicaciones\\Anaconda3\\lib\\site-packages\\statsmodels\\base\\model.py:508: ConvergenceWarning: Maximum Likelihood optimization failed to converge. Check mle_retvals\n",
      "  \"Check mle_retvals\", ConvergenceWarning)\n"
     ]
    },
    {
     "name": "stdout",
     "output_type": "stream",
     "text": [
      "Arima:  0 1 1 1 1 2 52 - AIC:  11601.139728029564\n",
      "Arima:  0 1 1 1 2 0 1 - AIC:  3533.9481979485718\n",
      "Arima:  0 1 1 1 2 0 4 - AIC:  3681.8705108414424\n",
      "Arima:  0 1 1 1 2 0 52 - AIC:  2547.7304792089917\n",
      "Arima:  0 1 1 1 2 1 1 - AIC:  3247.8738078572455\n",
      "Arima:  0 1 1 1 2 1 4 - AIC:  3347.4549019462825\n",
      "Arima:  0 1 1 1 2 1 52 - AIC:  2411.3461250724313\n",
      "Arima:  0 1 1 1 2 2 1 - AIC:  3212.4462222915236\n",
      "Arima:  0 1 1 1 2 2 4 - AIC:  3174.182520472481\n"
     ]
    },
    {
     "name": "stderr",
     "output_type": "stream",
     "text": [
      "E:\\Aplicaciones\\Anaconda3\\lib\\site-packages\\statsmodels\\base\\model.py:508: ConvergenceWarning: Maximum Likelihood optimization failed to converge. Check mle_retvals\n",
      "  \"Check mle_retvals\", ConvergenceWarning)\n"
     ]
    },
    {
     "name": "stdout",
     "output_type": "stream",
     "text": [
      "Arima:  0 1 1 1 2 2 52 - AIC:  8964.772517527234\n",
      "Arima:  0 1 1 2 0 0 1 - AIC:  3204.4692314069184\n",
      "Arima:  0 1 1 2 0 0 4 - AIC:  3189.536362336312\n",
      "Arima:  0 1 1 2 0 0 52 - AIC:  2586.63425678452\n",
      "Arima:  0 1 1 2 0 1 1 - AIC:  3200.4398422312565\n",
      "Arima:  0 1 1 2 0 1 4 - AIC:  3191.5146035087237\n",
      "Arima:  0 1 1 2 0 1 52 - AIC:  2588.627103315778\n",
      "Arima:  0 1 1 2 0 2 1 - AIC:  3190.554041396833\n",
      "Arima:  0 1 1 2 0 2 4 - AIC:  3181.1998007502552\n",
      "Arima:  0 1 1 2 0 2 52 - AIC:  2578.1879282854757\n",
      "Arima:  0 1 1 2 1 0 1 - AIC:  3207.1352831664794\n",
      "Arima:  0 1 1 2 1 0 4 - AIC:  3298.2710719259594\n",
      "Arima:  0 1 1 2 1 0 52 - AIC:  2285.422772233811\n",
      "Arima:  0 1 1 2 1 1 1 - AIC:  3200.407592114637\n",
      "Arima:  0 1 1 2 1 1 4 - AIC:  3175.8539850254338\n",
      "Arima:  0 1 1 2 1 1 52 - AIC:  2258.5545703914863\n",
      "Arima:  0 1 1 2 1 2 1 - AIC:  3198.664972032743\n",
      "Arima:  0 1 1 2 1 2 4 - AIC:  3164.426097028654\n"
     ]
    },
    {
     "name": "stderr",
     "output_type": "stream",
     "text": [
      "E:\\Aplicaciones\\Anaconda3\\lib\\site-packages\\statsmodels\\base\\model.py:508: ConvergenceWarning: Maximum Likelihood optimization failed to converge. Check mle_retvals\n",
      "  \"Check mle_retvals\", ConvergenceWarning)\n"
     ]
    },
    {
     "name": "stdout",
     "output_type": "stream",
     "text": [
      "Arima:  0 1 1 2 1 2 52 - AIC:  11612.871254640753\n",
      "Arima:  0 1 1 2 2 0 1 - AIC:  3418.5558684886064\n",
      "Arima:  0 1 1 2 2 0 4 - AIC:  3554.5801700316724\n",
      "Arima:  0 1 1 2 2 0 52 - AIC:  2081.758158880004\n",
      "Arima:  0 1 1 2 2 1 1 - AIC:  3211.4691657251146\n",
      "Arima:  0 1 1 2 2 1 4 - AIC:  3294.2581412485706\n",
      "Arima:  0 1 1 2 2 1 52 - AIC:  2034.105465370396\n",
      "Arima:  0 1 1 2 2 2 1 - AIC:  3204.4593635106235\n"
     ]
    },
    {
     "name": "stderr",
     "output_type": "stream",
     "text": [
      "E:\\Aplicaciones\\Anaconda3\\lib\\site-packages\\statsmodels\\base\\model.py:508: ConvergenceWarning: Maximum Likelihood optimization failed to converge. Check mle_retvals\n",
      "  \"Check mle_retvals\", ConvergenceWarning)\n"
     ]
    },
    {
     "name": "stdout",
     "output_type": "stream",
     "text": [
      "Arima:  0 1 1 2 2 2 4 - AIC:  3175.0997521512136\n"
     ]
    },
    {
     "name": "stderr",
     "output_type": "stream",
     "text": [
      "E:\\Aplicaciones\\Anaconda3\\lib\\site-packages\\statsmodels\\base\\model.py:508: ConvergenceWarning: Maximum Likelihood optimization failed to converge. Check mle_retvals\n",
      "  \"Check mle_retvals\", ConvergenceWarning)\n"
     ]
    },
    {
     "name": "stdout",
     "output_type": "stream",
     "text": [
      "Arima:  0 1 1 2 2 2 52 - AIC:  9018.698957857241\n",
      "Arima:  0 1 2 0 0 0 1 - AIC:  3199.021141273839\n",
      "Arima:  0 1 2 0 0 0 4 - AIC:  3199.021141273839\n",
      "Arima:  0 1 2 0 0 0 52 - AIC:  3199.021141273839\n",
      "Arima:  0 1 2 0 0 1 1 - AIC:  3195.091929984611\n",
      "Arima:  0 1 2 0 0 1 4 - AIC:  3172.0029679551617\n",
      "Arima:  0 1 2 0 0 1 52 - AIC:  2890.2786162670964\n",
      "Arima:  0 1 2 0 0 2 1 - AIC:  3191.0943593438433\n",
      "Arima:  0 1 2 0 0 2 4 - AIC:  3149.0909707431238\n",
      "Arima:  0 1 2 0 0 2 52 - AIC:  2552.6429868226223\n",
      "Arima:  0 1 2 0 1 0 1 - AIC:  3221.974332892205\n",
      "Arima:  0 1 2 0 1 0 4 - AIC:  3395.1598020282754\n",
      "Arima:  0 1 2 0 1 0 52 - AIC:  3107.226227428155\n",
      "Arima:  0 1 2 0 1 1 1 - AIC:  3195.1777975535106\n",
      "Arima:  0 1 2 0 1 1 4 - AIC:  3161.1092576925785\n",
      "Arima:  0 1 2 0 1 1 52 - AIC:  2571.8998204216505\n",
      "Arima:  0 1 2 0 1 2 1 - AIC:  3191.1826162919097\n",
      "Arima:  0 1 2 0 1 2 4 - AIC:  3135.6964598724862\n"
     ]
    },
    {
     "name": "stderr",
     "output_type": "stream",
     "text": [
      "E:\\Aplicaciones\\Anaconda3\\lib\\site-packages\\statsmodels\\base\\model.py:508: ConvergenceWarning: Maximum Likelihood optimization failed to converge. Check mle_retvals\n",
      "  \"Check mle_retvals\", ConvergenceWarning)\n"
     ]
    },
    {
     "name": "stdout",
     "output_type": "stream",
     "text": [
      "Arima:  0 1 2 0 1 2 52 - AIC:  12019.79942436349\n",
      "Arima:  0 1 2 0 2 0 1 - AIC:  3257.4869881762324\n",
      "Arima:  0 1 2 0 2 0 4 - AIC:  3745.1820397562597\n",
      "Arima:  0 1 2 0 2 0 52 - AIC:  3141.571773651896\n",
      "Arima:  0 1 2 0 2 1 1 - AIC:  3225.6528108856537\n",
      "Arima:  0 1 2 0 2 1 4 - AIC:  3367.2044416695594\n",
      "Arima:  0 1 2 0 2 1 52 - AIC:  2455.759283464261\n",
      "Arima:  0 1 2 0 2 2 1 - AIC:  3227.0348943049366\n",
      "Arima:  0 1 2 0 2 2 4 - AIC:  3145.734331423069\n"
     ]
    },
    {
     "name": "stderr",
     "output_type": "stream",
     "text": [
      "E:\\Aplicaciones\\Anaconda3\\lib\\site-packages\\statsmodels\\base\\model.py:508: ConvergenceWarning: Maximum Likelihood optimization failed to converge. Check mle_retvals\n",
      "  \"Check mle_retvals\", ConvergenceWarning)\n"
     ]
    },
    {
     "name": "stdout",
     "output_type": "stream",
     "text": [
      "Arima:  0 1 2 0 2 2 52 - AIC:  10250.225715806184\n",
      "Arima:  0 1 2 1 0 0 1 - AIC:  3200.98243672701\n",
      "Arima:  0 1 2 1 0 0 4 - AIC:  3190.5260283875127\n",
      "Arima:  0 1 2 1 0 0 52 - AIC:  2907.537946212671\n",
      "Arima:  0 1 2 1 0 1 1 - AIC:  3179.260990341556\n",
      "Arima:  0 1 2 1 0 1 4 - AIC:  3173.5388800720884\n",
      "Arima:  0 1 2 1 0 1 52 - AIC:  2890.4573736072025\n",
      "Arima:  0 1 2 1 0 2 1 - AIC:  3192.9604379036073\n",
      "Arima:  0 1 2 1 0 2 4 - AIC:  3150.616665971306\n",
      "Arima:  0 1 2 1 0 2 52 - AIC:  2554.587047395137\n",
      "Arima:  0 1 2 1 1 0 1 - AIC:  3202.012247817844\n",
      "Arima:  0 1 2 1 1 0 4 - AIC:  3357.3922568192734\n",
      "Arima:  0 1 2 1 1 0 52 - AIC:  2641.827142842617\n",
      "Arima:  0 1 2 1 1 1 1 - AIC:  3197.043449854707\n",
      "Arima:  0 1 2 1 1 1 4 - AIC:  3161.3792438443397\n",
      "Arima:  0 1 2 1 1 1 52 - AIC:  2592.4675132845086\n"
     ]
    },
    {
     "name": "stderr",
     "output_type": "stream",
     "text": [
      "E:\\Aplicaciones\\Anaconda3\\lib\\site-packages\\statsmodels\\base\\model.py:508: ConvergenceWarning: Maximum Likelihood optimization failed to converge. Check mle_retvals\n",
      "  \"Check mle_retvals\", ConvergenceWarning)\n"
     ]
    },
    {
     "name": "stdout",
     "output_type": "stream",
     "text": [
      "Arima:  0 1 2 1 1 2 1 - AIC:  3192.7559059301284\n",
      "Arima:  0 1 2 1 1 2 4 - AIC:  3136.283988416083\n"
     ]
    },
    {
     "name": "stderr",
     "output_type": "stream",
     "text": [
      "E:\\Aplicaciones\\Anaconda3\\lib\\site-packages\\statsmodels\\base\\model.py:508: ConvergenceWarning: Maximum Likelihood optimization failed to converge. Check mle_retvals\n",
      "  \"Check mle_retvals\", ConvergenceWarning)\n"
     ]
    },
    {
     "name": "stdout",
     "output_type": "stream",
     "text": [
      "Arima:  0 1 2 1 1 2 52 - AIC:  12003.555872786666\n",
      "Arima:  0 1 2 1 2 0 1 - AIC:  3245.515709892863\n",
      "Arima:  0 1 2 1 2 0 4 - AIC:  3631.4687946038594\n",
      "Arima:  0 1 2 1 2 0 52 - AIC:  2512.7128088190657\n"
     ]
    },
    {
     "name": "stderr",
     "output_type": "stream",
     "text": [
      "E:\\Aplicaciones\\Anaconda3\\lib\\site-packages\\statsmodels\\base\\model.py:508: ConvergenceWarning: Maximum Likelihood optimization failed to converge. Check mle_retvals\n",
      "  \"Check mle_retvals\", ConvergenceWarning)\n"
     ]
    },
    {
     "name": "stdout",
     "output_type": "stream",
     "text": [
      "Arima:  0 1 2 1 2 1 1 - AIC:  3215.649825120698\n",
      "Arima:  0 1 2 1 2 1 4 - AIC:  3332.1728184260182\n",
      "Arima:  0 1 2 1 2 1 52 - AIC:  2383.6495503642604\n"
     ]
    },
    {
     "name": "stderr",
     "output_type": "stream",
     "text": [
      "E:\\Aplicaciones\\Anaconda3\\lib\\site-packages\\statsmodels\\base\\model.py:508: ConvergenceWarning: Maximum Likelihood optimization failed to converge. Check mle_retvals\n",
      "  \"Check mle_retvals\", ConvergenceWarning)\n"
     ]
    },
    {
     "name": "stdout",
     "output_type": "stream",
     "text": [
      "Arima:  0 1 2 1 2 2 1 - AIC:  3203.3455993090674\n"
     ]
    },
    {
     "name": "stderr",
     "output_type": "stream",
     "text": [
      "E:\\Aplicaciones\\Anaconda3\\lib\\site-packages\\statsmodels\\base\\model.py:508: ConvergenceWarning: Maximum Likelihood optimization failed to converge. Check mle_retvals\n",
      "  \"Check mle_retvals\", ConvergenceWarning)\n"
     ]
    },
    {
     "name": "stdout",
     "output_type": "stream",
     "text": [
      "Arima:  0 1 2 1 2 2 4 - AIC:  3146.547827683882\n",
      "Arima:  0 1 2 1 2 2 52 - AIC:  10447.19625755286\n",
      "Arima:  0 1 2 2 0 0 1 - AIC:  3199.665884355555\n",
      "Arima:  0 1 2 2 0 0 4 - AIC:  3165.9728065013405\n",
      "Arima:  0 1 2 2 0 0 52 - AIC:  2568.8488728453594\n",
      "Arima:  0 1 2 2 0 1 1 - AIC:  3190.5540413868985\n",
      "Arima:  0 1 2 2 0 1 4 - AIC:  3167.8088313400485\n",
      "Arima:  0 1 2 2 0 1 52 - AIC:  2570.7360430149956\n",
      "Arima:  0 1 2 2 0 2 1 - AIC:  3186.4275899877084\n",
      "Arima:  0 1 2 2 0 2 4 - AIC:  3151.294477767895\n",
      "Arima:  0 1 2 2 0 2 52 - AIC:  2554.305533077696\n",
      "Arima:  0 1 2 2 1 0 1 - AIC:  3200.407593072622\n",
      "Arima:  0 1 2 2 1 0 4 - AIC:  3285.279978604096\n",
      "Arima:  0 1 2 2 1 0 52 - AIC:  2264.7746975218324\n",
      "Arima:  0 1 2 2 1 1 1 - AIC:  3195.9116176465745\n",
      "Arima:  0 1 2 2 1 1 4 - AIC:  3155.2294925251053\n",
      "Arima:  0 1 2 2 1 1 52 - AIC:  2243.842182956712\n"
     ]
    },
    {
     "name": "stderr",
     "output_type": "stream",
     "text": [
      "E:\\Aplicaciones\\Anaconda3\\lib\\site-packages\\statsmodels\\base\\model.py:508: ConvergenceWarning: Maximum Likelihood optimization failed to converge. Check mle_retvals\n",
      "  \"Check mle_retvals\", ConvergenceWarning)\n"
     ]
    },
    {
     "name": "stdout",
     "output_type": "stream",
     "text": [
      "Arima:  0 1 2 2 1 2 1 - AIC:  3187.226177933717\n",
      "Arima:  0 1 2 2 1 2 4 - AIC:  3137.2647729736395\n"
     ]
    },
    {
     "name": "stderr",
     "output_type": "stream",
     "text": [
      "E:\\Aplicaciones\\Anaconda3\\lib\\site-packages\\statsmodels\\base\\model.py:508: ConvergenceWarning: Maximum Likelihood optimization failed to converge. Check mle_retvals\n",
      "  \"Check mle_retvals\", ConvergenceWarning)\n"
     ]
    },
    {
     "name": "stdout",
     "output_type": "stream",
     "text": [
      "Arima:  0 1 2 2 1 2 52 - AIC:  12011.912411355997\n",
      "Arima:  0 1 2 2 2 0 1 - AIC:  3209.564832030577\n",
      "Arima:  0 1 2 2 2 0 4 - AIC:  3521.9427396898736\n",
      "Arima:  0 1 2 2 2 0 52 - AIC:  2056.4326471877966\n",
      "Arima:  0 1 2 2 2 1 1 - AIC:  3204.459369653354\n",
      "Arima:  0 1 2 2 2 1 4 - AIC:  3281.715414170796\n",
      "Arima:  0 1 2 2 2 1 52 - AIC:  2011.0244895559754\n"
     ]
    },
    {
     "name": "stderr",
     "output_type": "stream",
     "text": [
      "E:\\Aplicaciones\\Anaconda3\\lib\\site-packages\\statsmodels\\base\\model.py:508: ConvergenceWarning: Maximum Likelihood optimization failed to converge. Check mle_retvals\n",
      "  \"Check mle_retvals\", ConvergenceWarning)\n"
     ]
    },
    {
     "name": "stdout",
     "output_type": "stream",
     "text": [
      "Arima:  0 1 2 2 2 2 1 - AIC:  3199.4588825407827\n"
     ]
    },
    {
     "name": "stderr",
     "output_type": "stream",
     "text": [
      "E:\\Aplicaciones\\Anaconda3\\lib\\site-packages\\statsmodels\\base\\model.py:508: ConvergenceWarning: Maximum Likelihood optimization failed to converge. Check mle_retvals\n",
      "  \"Check mle_retvals\", ConvergenceWarning)\n"
     ]
    },
    {
     "name": "stdout",
     "output_type": "stream",
     "text": [
      "Arima:  0 1 2 2 2 2 4 - AIC:  3147.795079211529\n"
     ]
    },
    {
     "name": "stderr",
     "output_type": "stream",
     "text": [
      "E:\\Aplicaciones\\Anaconda3\\lib\\site-packages\\statsmodels\\base\\model.py:508: ConvergenceWarning: Maximum Likelihood optimization failed to converge. Check mle_retvals\n",
      "  \"Check mle_retvals\", ConvergenceWarning)\n"
     ]
    },
    {
     "name": "stdout",
     "output_type": "stream",
     "text": [
      "Arima:  0 1 2 2 2 2 52 - AIC:  10502.367937320796\n",
      "Arima:  0 2 0 0 0 0 1 - AIC:  3655.005439608117\n",
      "Arima:  0 2 0 0 0 0 4 - AIC:  3655.005439608117\n",
      "Arima:  0 2 0 0 0 0 52 - AIC:  3655.005439608117\n",
      "Arima:  0 2 0 0 0 1 1 - AIC:  3257.010711379402\n",
      "Arima:  0 2 0 0 0 1 4 - AIC:  3620.2734756354394\n",
      "Arima:  0 2 0 0 0 1 52 - AIC:  3293.837900685918\n",
      "Arima:  0 2 0 0 0 2 1 - AIC:  3221.974332892205\n",
      "Arima:  0 2 0 0 0 2 4 - AIC:  3594.76748186621\n",
      "Arima:  0 2 0 0 0 2 52 - AIC:  2902.083234422422\n",
      "Arima:  0 2 0 0 1 0 1 - AIC:  4149.132330637781\n",
      "Arima:  0 2 0 0 1 0 4 - AIC:  3879.1688018552727\n",
      "Arima:  0 2 0 0 1 0 52 - AIC:  3508.2018381409944\n",
      "Arima:  0 2 0 0 1 1 1 - AIC:  3648.3345761314513\n",
      "Arima:  0 2 0 0 1 1 4 - AIC:  3605.1898491701504\n",
      "Arima:  0 2 0 0 1 1 52 - AIC:  2920.8345277023413\n",
      "Arima:  0 2 0 0 1 2 1 - AIC:  3257.4869881762324\n",
      "Arima:  0 2 0 0 1 2 4 - AIC:  3573.373952500754\n"
     ]
    },
    {
     "name": "stderr",
     "output_type": "stream",
     "text": [
      "E:\\Aplicaciones\\Anaconda3\\lib\\site-packages\\statsmodels\\base\\model.py:508: ConvergenceWarning: Maximum Likelihood optimization failed to converge. Check mle_retvals\n",
      "  \"Check mle_retvals\", ConvergenceWarning)\n"
     ]
    },
    {
     "name": "stdout",
     "output_type": "stream",
     "text": [
      "Arima:  0 2 0 0 1 2 52 - AIC:  9705.00365815828\n",
      "Arima:  0 2 0 0 2 0 1 - AIC:  4682.7984372586525\n",
      "Arima:  0 2 0 0 2 0 4 - AIC:  4321.038449101316\n",
      "Arima:  0 2 0 0 2 0 52 - AIC:  3491.7739348886407\n",
      "Arima:  0 2 0 0 2 1 1 - AIC:  4140.293593087287\n",
      "Arima:  0 2 0 0 2 1 4 - AIC:  3837.615831198524\n",
      "Arima:  0 2 0 0 2 1 52 - AIC:  2753.283792234176\n",
      "Arima:  0 2 0 0 2 2 1 - AIC:  3645.5348889615434\n",
      "Arima:  0 2 0 0 2 2 4 - AIC:  3581.637917312342\n"
     ]
    }
   ],
   "source": [
    "best_model = None\n",
    "best_aic = None\n",
    "for (p,d,q) in [(p,d,q) for p in range(3) for d in range(3) for q in range(3)]:\n",
    "    for (sp, sd, sq) in [(sp, sd, sq) for sp in range(3) for sd in range(3) for sq in range(3)]:\n",
    "        for seasonality in [1,4,52]:\n",
    "            try:\n",
    "                model = SARIMAX(\n",
    "                    endog = iquitos_dataset[\"total_cases\"],\n",
    "                    order=(p, d, q),\n",
    "                    seasonal_order=(sp, sd, sq, seasonality),\n",
    "                    enforce_stationarity=False,\n",
    "                    enforce_invertibility=False)\n",
    "                results = model.fit()\n",
    "                print(\"Arima: \", p, d, q, sp, sd, sq, seasonality, \"- AIC: \", results.aic)\n",
    "\n",
    "                if(best_model is None or results.aic < best_aic):\n",
    "                    best_aic = results.aic\n",
    "                    best_model = model\n",
    "            except:\n",
    "                print(\"Error: \", p, d, q, seasonality)"
   ]
  },
  {
   "cell_type": "code",
   "execution_count": 1,
   "metadata": {},
   "outputs": [
    {
     "ename": "NameError",
     "evalue": "name 'best_model' is not defined",
     "output_type": "error",
     "traceback": [
      "\u001b[1;31m---------------------------------------------------------------------------\u001b[0m",
      "\u001b[1;31mNameError\u001b[0m                                 Traceback (most recent call last)",
      "\u001b[1;32m<ipython-input-1-ad4fcc797a51>\u001b[0m in \u001b[0;36m<module>\u001b[1;34m\u001b[0m\n\u001b[1;32m----> 1\u001b[1;33m \u001b[0mprint\u001b[0m\u001b[1;33m(\u001b[0m\u001b[1;34m\"Best model AIC: \"\u001b[0m\u001b[1;33m,\u001b[0m \u001b[0mbest_model\u001b[0m\u001b[1;33m.\u001b[0m\u001b[0maic\u001b[0m\u001b[1;33m)\u001b[0m\u001b[1;33m\u001b[0m\u001b[1;33m\u001b[0m\u001b[0m\n\u001b[0m\u001b[0;32m      2\u001b[0m \u001b[0mprint\u001b[0m\u001b[1;33m(\u001b[0m\u001b[0mbest_model\u001b[0m\u001b[1;33m)\u001b[0m\u001b[1;33m\u001b[0m\u001b[1;33m\u001b[0m\u001b[0m\n",
      "\u001b[1;31mNameError\u001b[0m: name 'best_model' is not defined"
     ]
    }
   ],
   "source": [
    "print(\"Best model AIC: \", best_model.aic)\n",
    "print(best_model)"
   ]
  },
  {
   "cell_type": "markdown",
   "metadata": {},
   "source": [
    "## Load San Juan dataset"
   ]
  },
  {
   "cell_type": "code",
   "execution_count": null,
   "metadata": {},
   "outputs": [],
   "source": [
    "sanjuan_dataset = pd.read_csv(\"dengueData/SanJuan/san_juan_training_data.csv\")\n",
    "sanjuan_dataset.head()\n",
    "print(\"Number of observations: \", len(sanjuan_dataset))"
   ]
  },
  {
   "cell_type": "code",
   "execution_count": null,
   "metadata": {},
   "outputs": [],
   "source": [
    "sanjuan_dataset[\"total_cases\"].plot()\n",
    "plt.show()"
   ]
  },
  {
   "cell_type": "code",
   "execution_count": null,
   "metadata": {},
   "outputs": [],
   "source": [
    "sanjuan_dataset[\"total_cases\"].hist()\n",
    "plt.show()\n",
    "#Left skewed data"
   ]
  },
  {
   "cell_type": "code",
   "execution_count": null,
   "metadata": {},
   "outputs": [],
   "source": [
    "#"
   ]
  }
 ],
 "metadata": {
  "kernelspec": {
   "display_name": "Python 3",
   "language": "python",
   "name": "python3"
  },
  "language_info": {
   "codemirror_mode": {
    "name": "ipython",
    "version": 3
   },
   "file_extension": ".py",
   "mimetype": "text/x-python",
   "name": "python",
   "nbconvert_exporter": "python",
   "pygments_lexer": "ipython3",
   "version": "3.6.7"
  }
 },
 "nbformat": 4,
 "nbformat_minor": 2
}
