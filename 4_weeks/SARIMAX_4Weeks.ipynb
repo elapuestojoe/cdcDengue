{
 "cells": [
  {
   "cell_type": "code",
   "execution_count": 1,
   "metadata": {},
   "outputs": [],
   "source": [
    "import pandas as pd\n",
    "import matplotlib.pyplot as plt\n",
    "import numpy as np"
   ]
  },
  {
   "cell_type": "code",
   "execution_count": 3,
   "metadata": {},
   "outputs": [
    {
     "name": "stdout",
     "output_type": "stream",
     "text": [
      "      season  season_week week_start_date  denv1_cases  denv2_cases  \\\n",
      "0  2000/2001            1      2000-07-01            0            0   \n",
      "1  2000/2001            2      2000-07-08            0            0   \n",
      "2  2000/2001            3      2000-07-15            0            0   \n",
      "3  2000/2001            4      2000-07-22            0            0   \n",
      "4  2000/2001            5      2000-07-29            0            0   \n",
      "\n",
      "   denv3_cases  denv4_cases  other_positive_cases  total_cases  \n",
      "0            0            0                     0            0  \n",
      "1            0            0                     0            0  \n",
      "2            0            0                     0            0  \n",
      "3            0            0                     0            0  \n",
      "4            0            0                     0            0  \n",
      "Number of observations:  468\n"
     ]
    }
   ],
   "source": [
    "iquitos_dataset = pd.read_csv(\"../dengueData/Iquitos/iquitos_training_data.csv\")\n",
    "print(iquitos_dataset.head())\n",
    "print(\"Number of observations: \", len(iquitos_dataset))"
   ]
  },
  {
   "cell_type": "code",
   "execution_count": 4,
   "metadata": {},
   "outputs": [
    {
     "name": "stdout",
     "output_type": "stream",
     "text": [
      "(468,)\n"
     ]
    }
   ],
   "source": [
    "iquitos_cases = iquitos_dataset[\"total_cases\"].values\n",
    "print(iquitos_cases.shape)"
   ]
  },
  {
   "cell_type": "code",
   "execution_count": 14,
   "metadata": {},
   "outputs": [
    {
     "name": "stdout",
     "output_type": "stream",
     "text": [
      "(331,)\n",
      "(134,)\n",
      "(134,)\n"
     ]
    }
   ],
   "source": [
    "split_index = int(len(iquitos_cases)* 0.7)\n",
    "window_size = 4\n",
    "future_steps = 3\n",
    "train = iquitos_cases[:split_index+window_size]\n",
    "\n",
    "#Test goes from train to end - future_steps (as this data will be feed into the model)\n",
    "#Expected is always future_steps ahead of test as this is the expected predictions\n",
    "test = iquitos_cases[split_index+window_size:-future_steps]\n",
    "expected = iquitos_cases[split_index+window_size+future_steps:]\n",
    "\n",
    "print(train.shape)\n",
    "print(test.shape)\n",
    "print(expected.shape)"
   ]
  },
  {
   "cell_type": "code",
   "execution_count": 21,
   "metadata": {},
   "outputs": [
    {
     "name": "stderr",
     "output_type": "stream",
     "text": [
      "E:\\Aplicaciones\\Anaconda3\\envs\\ML\\lib\\site-packages\\scipy\\signal\\signaltools.py:1341: FutureWarning: Using a non-tuple sequence for multidimensional indexing is deprecated; use `arr[tuple(seq)]` instead of `arr[seq]`. In the future this will be interpreted as an array index, `arr[np.array(seq)]`, which will result either in an error or a different result.\n",
      "  out_full[ind] += zi\n",
      "E:\\Aplicaciones\\Anaconda3\\envs\\ML\\lib\\site-packages\\scipy\\signal\\signaltools.py:1344: FutureWarning: Using a non-tuple sequence for multidimensional indexing is deprecated; use `arr[tuple(seq)]` instead of `arr[seq]`. In the future this will be interpreted as an array index, `arr[np.array(seq)]`, which will result either in an error or a different result.\n",
      "  out = out_full[ind]\n",
      "E:\\Aplicaciones\\Anaconda3\\envs\\ML\\lib\\site-packages\\scipy\\signal\\signaltools.py:1350: FutureWarning: Using a non-tuple sequence for multidimensional indexing is deprecated; use `arr[tuple(seq)]` instead of `arr[seq]`. In the future this will be interpreted as an array index, `arr[np.array(seq)]`, which will result either in an error or a different result.\n",
      "  zf = out_full[ind]\n"
     ]
    },
    {
     "name": "stdout",
     "output_type": "stream",
     "text": [
      "predicted=5.762028, expected=5.000000\n",
      "predicted=3.217225, expected=2.000000\n",
      "predicted=10.366029, expected=0.000000\n",
      "predicted=8.005346, expected=1.000000\n",
      "predicted=6.769014, expected=0.000000\n",
      "predicted=4.985756, expected=14.000000\n",
      "predicted=2.121466, expected=6.000000\n",
      "predicted=2.025809, expected=10.000000\n",
      "predicted=0.625479, expected=5.000000\n",
      "predicted=9.160128, expected=12.000000\n",
      "predicted=4.564201, expected=9.000000\n",
      "predicted=9.462219, expected=5.000000\n",
      "predicted=6.184062, expected=11.000000\n",
      "predicted=10.342651, expected=2.000000\n",
      "predicted=8.766721, expected=6.000000\n",
      "predicted=6.750960, expected=7.000000\n",
      "predicted=10.494079, expected=6.000000\n",
      "predicted=3.895794, expected=5.000000\n",
      "predicted=7.044108, expected=9.000000\n",
      "predicted=6.452027, expected=5.000000\n",
      "predicted=5.744017, expected=8.000000\n",
      "predicted=5.866302, expected=3.000000\n",
      "predicted=7.820793, expected=4.000000\n",
      "predicted=5.424033, expected=11.000000\n",
      "predicted=7.836261, expected=5.000000\n",
      "predicted=4.407449, expected=8.000000\n",
      "predicted=4.955671, expected=4.000000\n",
      "predicted=8.741628, expected=3.000000\n",
      "predicted=5.037477, expected=1.000000\n",
      "predicted=8.185841, expected=2.000000\n",
      "predicted=5.098145, expected=3.000000\n",
      "predicted=4.364172, expected=4.000000\n",
      "predicted=2.778587, expected=1.000000\n",
      "predicted=2.476433, expected=8.000000\n",
      "predicted=2.764222, expected=5.000000\n",
      "predicted=3.310414, expected=3.000000\n",
      "predicted=1.775288, expected=2.000000\n",
      "predicted=6.129969, expected=7.000000\n",
      "predicted=4.217891, expected=1.000000\n",
      "predicted=4.009831, expected=6.000000\n",
      "predicted=3.325050, expected=7.000000\n",
      "predicted=5.553294, expected=5.000000\n",
      "predicted=2.039670, expected=2.000000\n",
      "predicted=5.576319, expected=6.000000\n",
      "predicted=5.638517, expected=11.000000\n",
      "predicted=4.901601, expected=6.000000\n",
      "predicted=3.801200, expected=3.000000\n",
      "predicted=5.528700, expected=11.000000\n",
      "predicted=8.248114, expected=11.000000\n",
      "predicted=6.044830, expected=5.000000\n",
      "predicted=5.212836, expected=4.000000\n",
      "predicted=9.290670, expected=9.000000\n",
      "predicted=8.839961, expected=23.000000\n",
      "predicted=6.698447, expected=28.000000\n",
      "predicted=6.272553, expected=26.000000\n",
      "predicted=7.950066, expected=7.000000\n",
      "predicted=16.456680, expected=29.000000\n",
      "predicted=21.312942, expected=58.000000\n",
      "predicted=23.456616, expected=26.000000\n",
      "predicted=14.023297, expected=38.000000\n",
      "predicted=26.447623, expected=35.000000\n",
      "predicted=42.834614, expected=37.000000\n",
      "predicted=27.692909, expected=20.000000\n",
      "predicted=40.758164, expected=29.000000\n",
      "predicted=34.958075, expected=25.000000\n",
      "predicted=36.446346, expected=23.000000\n",
      "predicted=27.349382, expected=9.000000\n",
      "predicted=30.597934, expected=3.000000\n",
      "predicted=26.126490, expected=6.000000\n",
      "predicted=24.642781, expected=6.000000\n",
      "predicted=15.899328, expected=3.000000\n",
      "predicted=9.432767, expected=1.000000\n",
      "predicted=8.353969, expected=3.000000\n",
      "predicted=6.112968, expected=1.000000\n",
      "predicted=4.359687, expected=1.000000\n",
      "predicted=2.732774, expected=0.000000\n",
      "predicted=3.077741, expected=2.000000\n",
      "predicted=1.412004, expected=1.000000\n",
      "predicted=1.502889, expected=1.000000\n",
      "predicted=0.591639, expected=0.000000\n",
      "predicted=1.545607, expected=0.000000\n",
      "predicted=0.965331, expected=1.000000\n",
      "predicted=1.114673, expected=0.000000\n",
      "predicted=0.464772, expected=3.000000\n",
      "predicted=0.239158, expected=3.000000\n",
      "predicted=0.773336, expected=1.000000\n",
      "predicted=0.095195, expected=5.000000\n",
      "predicted=2.153958, expected=2.000000\n",
      "predicted=2.265110, expected=5.000000\n",
      "predicted=1.434066, expected=5.000000\n",
      "predicted=4.151302, expected=5.000000\n",
      "predicted=2.090367, expected=9.000000\n",
      "predicted=4.449102, expected=17.000000\n",
      "predicted=4.500756, expected=19.000000\n",
      "predicted=4.689909, expected=25.000000\n",
      "predicted=7.685614, expected=45.000000\n",
      "predicted=13.062613, expected=34.000000\n",
      "predicted=15.864459, expected=63.000000\n",
      "predicted=21.799792, expected=44.000000\n",
      "predicted=36.820236, expected=50.000000\n",
      "predicted=32.092414, expected=35.000000\n",
      "predicted=56.030688, expected=16.000000\n",
      "predicted=44.799466, expected=16.000000\n",
      "predicted=50.583783, expected=13.000000\n",
      "predicted=40.870785, expected=9.000000\n",
      "predicted=25.295085, expected=15.000000\n",
      "predicted=22.443874, expected=4.000000\n",
      "predicted=14.957953, expected=0.000000\n",
      "predicted=11.117409, expected=1.000000\n",
      "predicted=14.743675, expected=10.000000\n",
      "predicted=6.406563, expected=11.000000\n",
      "predicted=3.275118, expected=29.000000\n",
      "predicted=2.175123, expected=35.000000\n",
      "predicted=6.992513, expected=30.000000\n",
      "predicted=9.003971, expected=20.000000\n",
      "predicted=22.949353, expected=21.000000\n",
      "predicted=29.583597, expected=12.000000\n",
      "predicted=29.393899, expected=9.000000\n",
      "predicted=24.142079, expected=11.000000\n",
      "predicted=23.016635, expected=9.000000\n",
      "predicted=15.296177, expected=5.000000\n",
      "predicted=12.289937, expected=11.000000\n",
      "predicted=12.120528, expected=3.000000\n",
      "predicted=9.437526, expected=5.000000\n",
      "predicted=6.906531, expected=5.000000\n",
      "predicted=10.393636, expected=4.000000\n",
      "predicted=4.340745, expected=4.000000\n",
      "predicted=5.949362, expected=1.000000\n",
      "predicted=5.223913, expected=0.000000\n",
      "predicted=4.048269, expected=2.000000\n",
      "predicted=4.515722, expected=3.000000\n",
      "predicted=1.947125, expected=3.000000\n",
      "predicted=0.997520, expected=5.000000\n",
      "predicted=1.845959, expected=2.000000\n",
      "Test MSE: 163.138\n"
     ]
    },
    {
     "data": {
      "image/png": "[encoded data removed]",
      "text/plain": [
       "<Figure size 432x288 with 1 Axes>"
      ]
     },
     "metadata": {
      "needs_background": "light"
     },
     "output_type": "display_data"
    }
   ],
   "source": [
    "from statsmodels.tsa.arima_model import ARIMA\n",
    "from sklearn.metrics import mean_squared_error\n",
    "\n",
    "history = [x for x in train]\n",
    "predictions = list()\n",
    "for t in range(len(test)):\n",
    "    model = ARIMA(history, order=(5,1,0))\n",
    "    model_fit = model.fit(disp=0)\n",
    "    output = model_fit.forecast(steps=4) #future_steps+1\n",
    "    yhat = output[0][future_steps]\n",
    "    \n",
    "    predictions.append(yhat)\n",
    "    obs = expected[t]\n",
    "    history.append(test[t])\n",
    "    print('predicted=%f, expected=%f' % (yhat, obs))\n",
    "    \n",
    "error = mean_squared_error(expected, predictions)\n",
    "print('Test MSE: %.3f' % error)\n",
    "# plot\n",
    "plt.plot(test)\n",
    "plt.plot(predictions, color='red')\n",
    "plt.show()"
   ]
  },
  {
   "cell_type": "code",
   "execution_count": 22,
   "metadata": {},
   "outputs": [
    {
     "name": "stdout",
     "output_type": "stream",
     "text": [
      "8.313340028632313\n"
     ]
    }
   ],
   "source": [
    "from sklearn.metrics import mean_absolute_error\n",
    "\n",
    "mae = mean_absolute_error(expected, predictions)\n",
    "print(mae)"
   ]
  },
  {
   "cell_type": "code",
   "execution_count": 24,
   "metadata": {},
   "outputs": [
    {
     "name": "stdout",
     "output_type": "stream",
     "text": [
      "1.455321492440261e+17\n"
     ]
    }
   ],
   "source": [
    "import numpy as np\n",
    "\n",
    "def mean_absolute_percentage_error(y_true, y_pred): \n",
    "    y_true, y_pred = np.array(y_true), np.array(y_pred)\n",
    "    return np.mean(np.abs((y_true - y_pred) / (y_true + np.finfo(float).eps))) * 100\n",
    "\n",
    "mape = mean_absolute_percentage_error(expected, predictions)\n",
    "print(mape)"
   ]
  }
 ],
 "metadata": {
  "kernelspec": {
   "display_name": "Python 3",
   "language": "python",
   "name": "python3"
  },
  "language_info": {
   "codemirror_mode": {
    "name": "ipython",
    "version": 3
   },
   "file_extension": ".py",
   "mimetype": "text/x-python",
   "name": "python",
   "nbconvert_exporter": "python",
   "pygments_lexer": "ipython3",
   "version": "3.6.7"
  }
 },
 "nbformat": 4,
 "nbformat_minor": 2
}
