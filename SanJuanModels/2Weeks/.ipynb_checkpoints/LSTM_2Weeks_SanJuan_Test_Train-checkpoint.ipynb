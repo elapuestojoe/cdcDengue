{
 "cells": [
  {
   "cell_type": "code",
   "execution_count": 1,
   "metadata": {
    "colab": {
     "base_uri": "https://localhost:8080/",
     "height": 128
    },
    "colab_type": "code",
    "executionInfo": {
     "elapsed": 24853,
     "status": "ok",
     "timestamp": 1544513454598,
     "user": {
      "displayName": "Kevin Islas Abud",
      "photoUrl": "",
      "userId": "17803260883912783595"
     },
     "user_tz": 360
    },
    "id": "pyRGLm__8ZNx",
    "outputId": "346ed067-6ec2-45a3-a133-3956b5f3fea9"
   },
   "outputs": [
    {
     "name": "stdout",
     "output_type": "stream",
     "text": [
      "Go to this URL in a browser: https://accounts.google.com/o/oauth2/auth?client_id=947318989803-6bn6qk8qdgf4n4g3pfee6491hc0brc4i.apps.googleusercontent.com&redirect_uri=urn%3Aietf%3Awg%3Aoauth%3A2.0%3Aoob&scope=email%20https%3A%2F%2Fwww.googleapis.com%2Fauth%2Fdocs.test%20https%3A%2F%2Fwww.googleapis.com%2Fauth%2Fdrive%20https%3A%2F%2Fwww.googleapis.com%2Fauth%2Fdrive.photos.readonly%20https%3A%2F%2Fwww.googleapis.com%2Fauth%2Fpeopleapi.readonly&response_type=code\n",
      "\n",
      "Enter your authorization code:\n",
      "··········\n",
      "Mounted at /content/drive\n"
     ]
    }
   ],
   "source": [
    "# from google.colab import drive\n",
    "# drive.mount('/content/drive')"
   ]
  },
  {
   "cell_type": "code",
   "execution_count": 1,
   "metadata": {
    "colab": {},
    "colab_type": "code",
    "id": "fCFXsyHb7VYk"
   },
   "outputs": [],
   "source": [
    "import pandas as pd\n",
    "import matplotlib.pyplot as plt\n",
    "import numpy as np"
   ]
  },
  {
   "cell_type": "code",
   "execution_count": 2,
   "metadata": {
    "colab": {
     "base_uri": "https://localhost:8080/",
     "height": 399
    },
    "colab_type": "code",
    "executionInfo": {
     "elapsed": 25676,
     "status": "ok",
     "timestamp": 1544513455444,
     "user": {
      "displayName": "Kevin Islas Abud",
      "photoUrl": "",
      "userId": "17803260883912783595"
     },
     "user_tz": 360
    },
    "id": "EQqUP0ky7VYs",
    "outputId": "f27b3c5c-4d2b-4ff7-c695-20e4de9ae567"
   },
   "outputs": [
    {
     "name": "stdout",
     "output_type": "stream",
     "text": [
      "      season  season_week week_start_date  denv1_cases  denv2_cases  \\\n",
      "0  1990/1991            1      1990-04-30            0            0   \n",
      "1  1990/1991            2      1990-05-07            0            0   \n",
      "2  1990/1991            3      1990-05-14            0            0   \n",
      "3  1990/1991            4      1990-05-21            0            0   \n",
      "4  1990/1991            5      1990-05-28            0            0   \n",
      "\n",
      "   denv3_cases  denv4_cases  other_positive_cases  additional_cases  \\\n",
      "0            0            0                     4                 0   \n",
      "1            0            0                     5                 0   \n",
      "2            0            0                     4                 0   \n",
      "3            0            0                     3                 0   \n",
      "4            0            0                     6                 0   \n",
      "\n",
      "   total_cases  \n",
      "0            4  \n",
      "1            5  \n",
      "2            4  \n",
      "3            3  \n",
      "4            6  \n",
      "Number of observations:  988\n"
     ]
    }
   ],
   "source": [
    "sanjuan_training_dataset = pd.read_csv(\"../../dengueData/SanJuan/san_juan_training_data.csv\")\n",
    "# sanjuan_training_dataset = pd.read_csv(\"drive/My Drive/cdcDengue/dengueData/SanJuan/san_juan_training_data.csv\")\n",
    "print(sanjuan_training_dataset.head())\n",
    "print(\"Number of observations: \", len(sanjuan_training_dataset))"
   ]
  },
  {
   "cell_type": "code",
   "execution_count": 3,
   "metadata": {
    "colab": {
     "base_uri": "https://localhost:8080/",
     "height": 35
    },
    "colab_type": "code",
    "executionInfo": {
     "elapsed": 25654,
     "status": "ok",
     "timestamp": 1544513455446,
     "user": {
      "displayName": "Kevin Islas Abud",
      "photoUrl": "",
      "userId": "17803260883912783595"
     },
     "user_tz": 360
    },
    "id": "gdYeqrDO7VYy",
    "outputId": "2c475262-799f-4309-8c07-dcc99b24b34a"
   },
   "outputs": [
    {
     "name": "stdout",
     "output_type": "stream",
     "text": [
      "(988,)\n"
     ]
    }
   ],
   "source": [
    "sanjuan_training_cases = sanjuan_training_dataset[\"total_cases\"].values\n",
    "print(sanjuan_training_cases.shape)"
   ]
  },
  {
   "cell_type": "code",
   "execution_count": 4,
   "metadata": {
    "colab": {
     "base_uri": "https://localhost:8080/",
     "height": 399
    },
    "colab_type": "code",
    "executionInfo": {
     "elapsed": 26651,
     "status": "ok",
     "timestamp": 1544513456467,
     "user": {
      "displayName": "Kevin Islas Abud",
      "photoUrl": "",
      "userId": "17803260883912783595"
     },
     "user_tz": 360
    },
    "id": "k5eCaTDqkEtD",
    "outputId": "3d7998d1-29a7-45d1-ba34-b73a0857a716"
   },
   "outputs": [
    {
     "name": "stdout",
     "output_type": "stream",
     "text": [
      "      season  season_week week_start_date  denv1_cases  denv2_cases  \\\n",
      "0  1990/1991            1      1990-04-30            0            0   \n",
      "1  1990/1991            2      1990-05-07            0            0   \n",
      "2  1990/1991            3      1990-05-14            0            0   \n",
      "3  1990/1991            4      1990-05-21            0            0   \n",
      "4  1990/1991            5      1990-05-28            0            0   \n",
      "\n",
      "   denv3_cases  denv4_cases  other_positive_cases  additional_cases  \\\n",
      "0            0            0                     4                 0   \n",
      "1            0            0                     5                 0   \n",
      "2            0            0                     4                 0   \n",
      "3            0            0                     3                 0   \n",
      "4            0            0                     6                 0   \n",
      "\n",
      "   total_cases  \n",
      "0            4  \n",
      "1            5  \n",
      "2            4  \n",
      "3            3  \n",
      "4            6  \n",
      "Number of observations:  1196\n"
     ]
    }
   ],
   "source": [
    "sanjuan_testing_dataset = pd.read_csv(\"../../dengueData/SanJuan/san_juan_testing_data.csv\")\n",
    "# sanjuan_testing_dataset = pd.read_csv(\"drive/My Drive/cdcDengue/dengueData/SanJuan/san_juan_testing_data.csv\")\n",
    "print(sanjuan_testing_dataset.head())\n",
    "print(\"Number of observations: \", len(sanjuan_testing_dataset))"
   ]
  },
  {
   "cell_type": "code",
   "execution_count": 5,
   "metadata": {
    "colab": {
     "base_uri": "https://localhost:8080/",
     "height": 35
    },
    "colab_type": "code",
    "executionInfo": {
     "elapsed": 26636,
     "status": "ok",
     "timestamp": 1544513456468,
     "user": {
      "displayName": "Kevin Islas Abud",
      "photoUrl": "",
      "userId": "17803260883912783595"
     },
     "user_tz": 360
    },
    "id": "V4DEwSaUk7ni",
    "outputId": "d82049ee-e2ad-4f60-f726-4ec3abec72fc"
   },
   "outputs": [
    {
     "name": "stdout",
     "output_type": "stream",
     "text": [
      "(1196,)\n"
     ]
    }
   ],
   "source": [
    "sanjuan_testing_cases = sanjuan_testing_dataset[\"total_cases\"].values\n",
    "print(sanjuan_testing_cases.shape)"
   ]
  },
  {
   "cell_type": "code",
   "execution_count": 6,
   "metadata": {
    "colab": {},
    "colab_type": "code",
    "id": "9OWNAm-A7VY4"
   },
   "outputs": [],
   "source": [
    "def series_to_timeseries_window(data, windowSize, future_steps):\n",
    "    x = []\n",
    "    y = []\n",
    "    for i in range(len(data)-windowSize-future_steps):\n",
    "        x_observation = []\n",
    "        y_observation = [data[i+windowSize+future_steps]]\n",
    "        for j in range(windowSize):\n",
    "            x_observation.append(data[i+j])\n",
    "        x.append(x_observation)\n",
    "        y.append(y_observation)\n",
    "    return np.array(x), np.array(y)"
   ]
  },
  {
   "cell_type": "code",
   "execution_count": 7,
   "metadata": {
    "colab": {
     "base_uri": "https://localhost:8080/",
     "height": 399
    },
    "colab_type": "code",
    "executionInfo": {
     "elapsed": 26624,
     "status": "ok",
     "timestamp": 1544513456473,
     "user": {
      "displayName": "Kevin Islas Abud",
      "photoUrl": "",
      "userId": "17803260883912783595"
     },
     "user_tz": 360
    },
    "id": "vSKMgUCM7VY7",
    "outputId": "2a5f52e5-5061-4dd4-a155-455a81ae2773"
   },
   "outputs": [
    {
     "name": "stdout",
     "output_type": "stream",
     "text": [
      "[[ 1  2  3  4]\n",
      " [ 2  3  4  5]\n",
      " [ 3  4  5  6]\n",
      " [ 4  5  6  7]\n",
      " [ 5  6  7  8]\n",
      " [ 6  7  8  9]\n",
      " [ 7  8  9 10]\n",
      " [ 8  9 10 11]\n",
      " [ 9 10 11 12]\n",
      " [10 11 12 13]]\n",
      "[[ 6]\n",
      " [ 7]\n",
      " [ 8]\n",
      " [ 9]\n",
      " [10]\n",
      " [11]\n",
      " [12]\n",
      " [13]\n",
      " [14]\n",
      " [15]]\n",
      "10\n"
     ]
    }
   ],
   "source": [
    "#Test that the method works\n",
    "test_data = [1, 2, 3, 4, 5, 6, 7, 8, 9, 10, 11, 12, 13, 14, 15]\n",
    "\n",
    "tX, ty = series_to_timeseries_window(test_data, 4, 1)\n",
    "\n",
    "print(tX)\n",
    "print(ty)\n",
    "\n",
    "print(len(tX))"
   ]
  },
  {
   "cell_type": "code",
   "execution_count": 8,
   "metadata": {
    "colab": {},
    "colab_type": "code",
    "id": "qZtdP8cC7VZB"
   },
   "outputs": [
    {
     "name": "stdout",
     "output_type": "stream",
     "text": [
      "reframed_X:  (1191, 4)\n",
      "reframed_y:  (1191, 1)\n",
      "(983, 1, 4)\n",
      "(983, 1)\n",
      "(208, 1, 4)\n",
      "(208, 1)\n"
     ]
    }
   ],
   "source": [
    "window_size = 4\n",
    "steps = 2\n",
    "split_index = len(sanjuan_training_cases)\n",
    "reframed_X, reframed_y = series_to_timeseries_window(sanjuan_testing_cases, window_size, steps-1)\n",
    "\n",
    "print(\"reframed_X: \", reframed_X.shape)\n",
    "print(\"reframed_y: \", reframed_y.shape)\n",
    "# shape = size - window_size\n",
    "\n",
    "train_X = reframed_X[:split_index-window_size-(steps-1)]\n",
    "train_y = reframed_y[:split_index-window_size-(steps-1)]\n",
    "\n",
    "test_X = reframed_X[split_index-window_size-(steps-1):]\n",
    "test_y = reframed_y[split_index-window_size-(steps-1):]\n",
    "\n",
    "train_X = train_X.reshape(train_X.shape[0], 1, train_X.shape[1])\n",
    "\n",
    "test_X = test_X.reshape(test_X.shape[0], 1, test_X.shape[1])\n",
    "\n",
    "print(train_X.shape)\n",
    "print(train_y.shape)\n",
    "\n",
    "print(test_X.shape)\n",
    "print(test_y.shape)"
   ]
  },
  {
   "cell_type": "markdown",
   "metadata": {
    "colab_type": "text",
    "id": "ftIZqDot7VZK"
   },
   "source": [
    "## Train model"
   ]
  },
  {
   "cell_type": "code",
   "execution_count": 9,
   "metadata": {
    "colab": {
     "base_uri": "https://localhost:8080/",
     "height": 35
    },
    "colab_type": "code",
    "executionInfo": {
     "elapsed": 44377,
     "status": "ok",
     "timestamp": 1544513474264,
     "user": {
      "displayName": "Kevin Islas Abud",
      "photoUrl": "",
      "userId": "17803260883912783595"
     },
     "user_tz": 360
    },
    "id": "oF-OEUc8lmSC",
    "outputId": "efcf877d-02cc-4c55-b035-81faa1756d28"
   },
   "outputs": [
    {
     "name": "stderr",
     "output_type": "stream",
     "text": [
      "Using TensorFlow backend.\n"
     ]
    }
   ],
   "source": [
    "from keras.models import Sequential\n",
    "from keras.layers import LSTM, Dense, Input, Flatten\n",
    "from keras.layers.merge import concatenate\n",
    "from keras.constraints import non_neg\n",
    "from keras.models import Model\n",
    "from sklearn.metrics import mean_squared_error\n",
    "from keras.optimizers import Adam\n",
    "input_layer = Input(shape=(1,4))\n",
    "b1_out = LSTM(64, return_sequences=False)(input_layer)\n",
    "\n",
    "b2_out = Dense(32, activation=\"relu\", kernel_regularizer=\"l2\")(input_layer)\n",
    "b2_out = Flatten()(b2_out)\n",
    "\n",
    "concatenated = concatenate([b1_out, b2_out])\n",
    "out = Dense(4, activation=\"relu\", kernel_regularizer=\"l2\")(concatenated)\n",
    "out = Dense(4, activation=\"relu\", kernel_regularizer=\"l2\")(out)\n",
    "out = Dense(1, activation=\"linear\", kernel_constraint=non_neg(), name='output_layer')(out)\n",
    "\n",
    "model = Model([input_layer], out)\n",
    "model.compile(loss=[\"mse\"], optimizer=Adam(0.0001), metrics=[\"mae\", \"mse\"])\n",
    "\n",
    "history = model.fit(train_X, train_y, epochs=200, batch_size=32, verbose=0, shuffle=False)\n"
   ]
  },
  {
   "cell_type": "code",
   "execution_count": 10,
   "metadata": {
    "colab": {
     "base_uri": "https://localhost:8080/",
     "height": 735
    },
    "colab_type": "code",
    "executionInfo": {
     "elapsed": 44809,
     "status": "ok",
     "timestamp": 1544513474707,
     "user": {
      "displayName": "Kevin Islas Abud",
      "photoUrl": "",
      "userId": "17803260883912783595"
     },
     "user_tz": 360
    },
    "id": "VSXD0NLalvP1",
    "outputId": "8fd097f1-7360-46c1-a3af-3b92ecfd3c19"
   },
   "outputs": [
    {
     "data": {
      "image/png": "[encoded data removed]",
      "text/plain": [
       "<Figure size 432x288 with 1 Axes>"
      ]
     },
     "metadata": {
      "needs_background": "light"
     },
     "output_type": "display_data"
    },
    {
     "data": {
      "image/png": "[encoded data removed]",
      "text/plain": [
       "<Figure size 432x288 with 1 Axes>"
      ]
     },
     "metadata": {
      "needs_background": "light"
     },
     "output_type": "display_data"
    }
   ],
   "source": [
    "plt.plot(history.history['mean_squared_error'])\n",
    "plt.title('model mean_squared_error')\n",
    "plt.ylabel('mse')\n",
    "plt.xlabel('epoch')\n",
    "plt.legend(['train', 'test'], loc='upper left')\n",
    "plt.show()\n",
    "\n",
    "plt.plot(history.history['mean_absolute_error'])\n",
    "plt.title('model mean_absolute_error')\n",
    "plt.ylabel('mse')\n",
    "plt.xlabel('epoch')\n",
    "plt.legend(['train', 'test'], loc='upper left')\n",
    "plt.show()"
   ]
  },
  {
   "cell_type": "code",
   "execution_count": 11,
   "metadata": {
    "colab": {},
    "colab_type": "code",
    "id": "GcALa4qpmg3O"
   },
   "outputs": [],
   "source": [
    "## Time series cross validation\n",
    "history_X = [x for x in train_X]\n",
    "history_y = [y for y in train_y]\n",
    "\n",
    "predicted_y_history = []\n",
    "for i in range(len(test_X)):\n",
    "  expected_y = test_y[i]\n",
    "  predicted_y = model.predict(test_X[i].reshape(1,1,4))[0]\n",
    "#   print(\"Expected {}, got {}.\".format(expected_y, predicted_y))\n",
    "  predicted_y_history.append(predicted_y[0])\n",
    "  \n",
    "  history_X.append(test_X[i])\n",
    "  history_y.append(expected_y)\n",
    "\n",
    "  model.fit(np.array(history_X), np.array(history_y), epochs=1, batch_size=32, verbose=0, shuffle=False)\n"
   ]
  },
  {
   "cell_type": "code",
   "execution_count": 12,
   "metadata": {
    "colab": {
     "base_uri": "https://localhost:8080/",
     "height": 35
    },
    "colab_type": "code",
    "executionInfo": {
     "elapsed": 60630,
     "status": "ok",
     "timestamp": 1544513490538,
     "user": {
      "displayName": "Kevin Islas Abud",
      "photoUrl": "",
      "userId": "17803260883912783595"
     },
     "user_tz": 360
    },
    "id": "873Tr3mJrUqu",
    "outputId": "c6771a43-517f-411c-fef8-a10543f1c7b2"
   },
   "outputs": [
    {
     "name": "stdout",
     "output_type": "stream",
     "text": [
      "MSE:  528.2254474274598\n"
     ]
    }
   ],
   "source": [
    "from sklearn.metrics import mean_squared_error\n",
    "\n",
    "error = mean_squared_error(test_y, predicted_y_history)\n",
    "\n",
    "print(\"MSE: \", error)"
   ]
  },
  {
   "cell_type": "code",
   "execution_count": 13,
   "metadata": {
    "colab": {
     "base_uri": "https://localhost:8080/",
     "height": 376
    },
    "colab_type": "code",
    "executionInfo": {
     "elapsed": 61081,
     "status": "ok",
     "timestamp": 1544513490998,
     "user": {
      "displayName": "Kevin Islas Abud",
      "photoUrl": "",
      "userId": "17803260883912783595"
     },
     "user_tz": 360
    },
    "id": "TsQVf1ANrO9o",
    "outputId": "2e09b015-0b6f-4bb8-aaea-ed1654f3c2ad"
   },
   "outputs": [
    {
     "data": {
      "image/png": "[encoded data removed]",
      "text/plain": [
       "<Figure size 432x288 with 1 Axes>"
      ]
     },
     "metadata": {
      "needs_background": "light"
     },
     "output_type": "display_data"
    }
   ],
   "source": [
    "plt.title(\"1 Week ahead predictions\")\n",
    "plt.xlabel(\"Week\")\n",
    "plt.ylabel(\"Cases\")\n",
    "plt.plot(predicted_y_history, label=\"Predicted\")\n",
    "plt.plot(test_y, label = \"Observed\", color=\"orange\")\n",
    "plt.legend()\n",
    "plt.show()"
   ]
  }
 ],
 "metadata": {
  "colab": {
   "collapsed_sections": [],
   "name": "LSTM_2Weeks_SanJuan_Test_Train.ipynb",
   "provenance": [],
   "toc_visible": true,
   "version": "0.3.2"
  },
  "kernelspec": {
   "display_name": "Python 3",
   "language": "python",
   "name": "python3"
  },
  "language_info": {
   "codemirror_mode": {
    "name": "ipython",
    "version": 3
   },
   "file_extension": ".py",
   "mimetype": "text/x-python",
   "name": "python",
   "nbconvert_exporter": "python",
   "pygments_lexer": "ipython3",
   "version": "3.6.7"
  }
 },
 "nbformat": 4,
 "nbformat_minor": 1
}
