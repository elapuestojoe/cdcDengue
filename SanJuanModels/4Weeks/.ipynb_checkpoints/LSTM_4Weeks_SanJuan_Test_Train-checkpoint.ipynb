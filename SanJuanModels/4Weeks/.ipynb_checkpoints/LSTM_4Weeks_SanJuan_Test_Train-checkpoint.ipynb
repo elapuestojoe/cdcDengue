{
 "cells": [
  {
   "cell_type": "code",
   "execution_count": 1,
   "metadata": {
    "colab": {
     "base_uri": "https://localhost:8080/",
     "height": 35
    },
    "colab_type": "code",
    "executionInfo": {
     "elapsed": 513,
     "status": "ok",
     "timestamp": 1544490322146,
     "user": {
      "displayName": "Kevin Islas Abud",
      "photoUrl": "",
      "userId": "17803260883912783595"
     },
     "user_tz": 360
    },
    "id": "pyRGLm__8ZNx",
    "outputId": "58a6ff48-5894-4cd5-9359-3f1e7d7226a7"
   },
   "outputs": [
    {
     "name": "stdout",
     "output_type": "stream",
     "text": [
      "Drive already mounted at /content/drive; to attempt to forcibly remount, call drive.mount(\"/content/drive\", force_remount=True).\n"
     ]
    }
   ],
   "source": [
    "# from google.colab import drive\n",
    "# drive.mount('/content/drive')"
   ]
  },
  {
   "cell_type": "code",
   "execution_count": 1,
   "metadata": {
    "colab": {},
    "colab_type": "code",
    "id": "fCFXsyHb7VYk"
   },
   "outputs": [],
   "source": [
    "import pandas as pd\n",
    "import matplotlib.pyplot as plt\n",
    "import numpy as np"
   ]
  },
  {
   "cell_type": "code",
   "execution_count": 2,
   "metadata": {
    "colab": {
     "base_uri": "https://localhost:8080/",
     "height": 399
    },
    "colab_type": "code",
    "executionInfo": {
     "elapsed": 904,
     "status": "ok",
     "timestamp": 1544490322614,
     "user": {
      "displayName": "Kevin Islas Abud",
      "photoUrl": "",
      "userId": "17803260883912783595"
     },
     "user_tz": 360
    },
    "id": "EQqUP0ky7VYs",
    "outputId": "dd6180ca-d418-4205-d9ad-e2a72da54560"
   },
   "outputs": [
    {
     "name": "stdout",
     "output_type": "stream",
     "text": [
      "      season  season_week week_start_date  denv1_cases  denv2_cases  \\\n",
      "0  1990/1991            1      1990-04-30            0            0   \n",
      "1  1990/1991            2      1990-05-07            0            0   \n",
      "2  1990/1991            3      1990-05-14            0            0   \n",
      "3  1990/1991            4      1990-05-21            0            0   \n",
      "4  1990/1991            5      1990-05-28            0            0   \n",
      "\n",
      "   denv3_cases  denv4_cases  other_positive_cases  additional_cases  \\\n",
      "0            0            0                     4                 0   \n",
      "1            0            0                     5                 0   \n",
      "2            0            0                     4                 0   \n",
      "3            0            0                     3                 0   \n",
      "4            0            0                     6                 0   \n",
      "\n",
      "   total_cases  \n",
      "0            4  \n",
      "1            5  \n",
      "2            4  \n",
      "3            3  \n",
      "4            6  \n",
      "Number of observations:  988\n"
     ]
    }
   ],
   "source": [
    "sanjuan_training_dataset = pd.read_csv(\"../../dengueData/SanJuan/san_juan_training_data.csv\")\n",
    "# sanjuan_training_dataset = pd.read_csv(\"drive/My Drive/cdcDengue/dengueData/SanJuan/san_juan_training_data.csv\")\n",
    "print(sanjuan_training_dataset.head())\n",
    "print(\"Number of observations: \", len(sanjuan_training_dataset))"
   ]
  },
  {
   "cell_type": "code",
   "execution_count": 3,
   "metadata": {
    "colab": {
     "base_uri": "https://localhost:8080/",
     "height": 35
    },
    "colab_type": "code",
    "executionInfo": {
     "elapsed": 876,
     "status": "ok",
     "timestamp": 1544490322618,
     "user": {
      "displayName": "Kevin Islas Abud",
      "photoUrl": "",
      "userId": "17803260883912783595"
     },
     "user_tz": 360
    },
    "id": "gdYeqrDO7VYy",
    "outputId": "b1743cde-7536-4e50-e47b-9827554f3180"
   },
   "outputs": [
    {
     "name": "stdout",
     "output_type": "stream",
     "text": [
      "(988,)\n"
     ]
    }
   ],
   "source": [
    "sanjuan_training_cases = sanjuan_training_dataset[\"total_cases\"].values\n",
    "print(sanjuan_training_cases.shape)"
   ]
  },
  {
   "cell_type": "code",
   "execution_count": 4,
   "metadata": {
    "colab": {
     "base_uri": "https://localhost:8080/",
     "height": 399
    },
    "colab_type": "code",
    "executionInfo": {
     "elapsed": 809,
     "status": "ok",
     "timestamp": 1544490322619,
     "user": {
      "displayName": "Kevin Islas Abud",
      "photoUrl": "",
      "userId": "17803260883912783595"
     },
     "user_tz": 360
    },
    "id": "k5eCaTDqkEtD",
    "outputId": "8a66a840-5a51-41d7-c809-ad83cdc123bb"
   },
   "outputs": [
    {
     "name": "stdout",
     "output_type": "stream",
     "text": [
      "      season  season_week week_start_date  denv1_cases  denv2_cases  \\\n",
      "0  1990/1991            1      1990-04-30            0            0   \n",
      "1  1990/1991            2      1990-05-07            0            0   \n",
      "2  1990/1991            3      1990-05-14            0            0   \n",
      "3  1990/1991            4      1990-05-21            0            0   \n",
      "4  1990/1991            5      1990-05-28            0            0   \n",
      "\n",
      "   denv3_cases  denv4_cases  other_positive_cases  additional_cases  \\\n",
      "0            0            0                     4                 0   \n",
      "1            0            0                     5                 0   \n",
      "2            0            0                     4                 0   \n",
      "3            0            0                     3                 0   \n",
      "4            0            0                     6                 0   \n",
      "\n",
      "   total_cases  \n",
      "0            4  \n",
      "1            5  \n",
      "2            4  \n",
      "3            3  \n",
      "4            6  \n",
      "Number of observations:  1196\n"
     ]
    }
   ],
   "source": [
    "sanjuan_testing_dataset = pd.read_csv(\"../../dengueData/SanJuan/san_juan_testing_data.csv\")\n",
    "# sanjuan_testing_dataset = pd.read_csv(\"drive/My Drive/cdcDengue/dengueData/SanJuan/san_juan_testing_data.csv\")\n",
    "print(sanjuan_testing_dataset.head())\n",
    "print(\"Number of observations: \", len(sanjuan_testing_dataset))"
   ]
  },
  {
   "cell_type": "code",
   "execution_count": 5,
   "metadata": {
    "colab": {
     "base_uri": "https://localhost:8080/",
     "height": 35
    },
    "colab_type": "code",
    "executionInfo": {
     "elapsed": 772,
     "status": "ok",
     "timestamp": 1544490322620,
     "user": {
      "displayName": "Kevin Islas Abud",
      "photoUrl": "",
      "userId": "17803260883912783595"
     },
     "user_tz": 360
    },
    "id": "V4DEwSaUk7ni",
    "outputId": "c29225b6-2c21-4513-dfc7-e8e6b39fcdae"
   },
   "outputs": [
    {
     "name": "stdout",
     "output_type": "stream",
     "text": [
      "(1196,)\n"
     ]
    }
   ],
   "source": [
    "sanjuan_testing_cases = sanjuan_testing_dataset[\"total_cases\"].values\n",
    "print(sanjuan_testing_cases.shape)"
   ]
  },
  {
   "cell_type": "code",
   "execution_count": 6,
   "metadata": {
    "colab": {},
    "colab_type": "code",
    "id": "9OWNAm-A7VY4"
   },
   "outputs": [],
   "source": [
    "def series_to_timeseries_window(data, windowSize, future_steps):\n",
    "    x = []\n",
    "    y = []\n",
    "    for i in range(len(data)-windowSize-future_steps):\n",
    "        x_observation = []\n",
    "        y_observation = [data[i+windowSize+future_steps]]\n",
    "        for j in range(windowSize):\n",
    "            x_observation.append(data[i+j])\n",
    "        x.append(x_observation)\n",
    "        y.append(y_observation)\n",
    "    return np.array(x), np.array(y)"
   ]
  },
  {
   "cell_type": "code",
   "execution_count": 7,
   "metadata": {
    "colab": {
     "base_uri": "https://localhost:8080/",
     "height": 326
    },
    "colab_type": "code",
    "executionInfo": {
     "elapsed": 753,
     "status": "ok",
     "timestamp": 1544490322634,
     "user": {
      "displayName": "Kevin Islas Abud",
      "photoUrl": "",
      "userId": "17803260883912783595"
     },
     "user_tz": 360
    },
    "id": "vSKMgUCM7VY7",
    "outputId": "7aa69082-ade7-401f-a38d-97530843ab1f"
   },
   "outputs": [
    {
     "name": "stdout",
     "output_type": "stream",
     "text": [
      "[[ 1  2  3  4]\n",
      " [ 2  3  4  5]\n",
      " [ 3  4  5  6]\n",
      " [ 4  5  6  7]\n",
      " [ 5  6  7  8]\n",
      " [ 6  7  8  9]\n",
      " [ 7  8  9 10]\n",
      " [ 8  9 10 11]]\n",
      "[[ 8]\n",
      " [ 9]\n",
      " [10]\n",
      " [11]\n",
      " [12]\n",
      " [13]\n",
      " [14]\n",
      " [15]]\n",
      "8\n"
     ]
    }
   ],
   "source": [
    "#Test that the method works\n",
    "test_data = [1, 2, 3, 4, 5, 6, 7, 8, 9, 10, 11, 12, 13, 14, 15]\n",
    "\n",
    "tX, ty = series_to_timeseries_window(test_data, 4, 3)\n",
    "\n",
    "print(tX)\n",
    "print(ty)\n",
    "\n",
    "print(len(tX))"
   ]
  },
  {
   "cell_type": "code",
   "execution_count": 8,
   "metadata": {
    "colab": {},
    "colab_type": "code",
    "id": "qZtdP8cC7VZB"
   },
   "outputs": [
    {
     "name": "stdout",
     "output_type": "stream",
     "text": [
      "reframed_X:  (1189, 4)\n",
      "reframed_y:  (1189, 1)\n",
      "(981, 1, 4)\n",
      "(981, 1)\n",
      "(208, 1, 4)\n",
      "(208, 1)\n"
     ]
    }
   ],
   "source": [
    "window_size = 4\n",
    "steps = 4\n",
    "split_index = len(sanjuan_training_cases)\n",
    "reframed_X, reframed_y = series_to_timeseries_window(sanjuan_testing_cases, window_size, steps-1)\n",
    "\n",
    "print(\"reframed_X: \", reframed_X.shape)\n",
    "print(\"reframed_y: \", reframed_y.shape)\n",
    "# shape = size - window_size\n",
    "\n",
    "train_X = reframed_X[:split_index-window_size-(steps-1)]\n",
    "train_y = reframed_y[:split_index-window_size-(steps-1)]\n",
    "\n",
    "test_X = reframed_X[split_index-window_size-(steps-1):]\n",
    "test_y = reframed_y[split_index-window_size-(steps-1):]\n",
    "\n",
    "train_X = train_X.reshape(train_X.shape[0], 1, train_X.shape[1])\n",
    "\n",
    "test_X = test_X.reshape(test_X.shape[0], 1, test_X.shape[1])\n",
    "\n",
    "print(train_X.shape)\n",
    "print(train_y.shape)\n",
    "\n",
    "print(test_X.shape)\n",
    "print(test_y.shape)"
   ]
  },
  {
   "cell_type": "markdown",
   "metadata": {
    "colab_type": "text",
    "id": "ftIZqDot7VZK"
   },
   "source": [
    "## Train model"
   ]
  },
  {
   "cell_type": "code",
   "execution_count": 9,
   "metadata": {
    "colab": {
     "base_uri": "https://localhost:8080/",
     "height": 35
    },
    "colab_type": "code",
    "executionInfo": {
     "elapsed": 19130,
     "status": "ok",
     "timestamp": 1544490341037,
     "user": {
      "displayName": "Kevin Islas Abud",
      "photoUrl": "",
      "userId": "17803260883912783595"
     },
     "user_tz": 360
    },
    "id": "oF-OEUc8lmSC",
    "outputId": "8bd97f91-a044-44d8-c6c5-115e9f5df6cc"
   },
   "outputs": [
    {
     "name": "stderr",
     "output_type": "stream",
     "text": [
      "Using TensorFlow backend.\n"
     ]
    }
   ],
   "source": [
    "from keras.models import Sequential\n",
    "from keras.layers import LSTM, Dense, Input, Flatten\n",
    "from keras.layers.merge import concatenate\n",
    "from keras.constraints import non_neg\n",
    "from keras.models import Model\n",
    "from sklearn.metrics import mean_squared_error\n",
    "from keras.optimizers import Adam\n",
    "input_layer = Input(shape=(1,4))\n",
    "b1_out = LSTM(64, return_sequences=False)(input_layer)\n",
    "\n",
    "b2_out = Dense(32, activation=\"relu\", kernel_regularizer=\"l2\")(input_layer)\n",
    "b2_out = Flatten()(b2_out)\n",
    "\n",
    "concatenated = concatenate([b1_out, b2_out])\n",
    "out = Dense(4, activation=\"relu\", kernel_regularizer=\"l2\")(concatenated)\n",
    "out = Dense(4, activation=\"relu\", kernel_regularizer=\"l2\")(out)\n",
    "out = Dense(1, activation=\"linear\", kernel_constraint=non_neg(), name='output_layer')(out)\n",
    "\n",
    "model = Model([input_layer], out)\n",
    "model.compile(loss=[\"mse\"], optimizer=Adam(0.0001), metrics=[\"mae\", \"mse\"])\n",
    "\n",
    "history = model.fit(train_X, train_y, epochs=200, batch_size=32, verbose=0, shuffle=False)\n"
   ]
  },
  {
   "cell_type": "code",
   "execution_count": 10,
   "metadata": {
    "colab": {
     "base_uri": "https://localhost:8080/",
     "height": 735
    },
    "colab_type": "code",
    "executionInfo": {
     "elapsed": 19579,
     "status": "ok",
     "timestamp": 1544490341510,
     "user": {
      "displayName": "Kevin Islas Abud",
      "photoUrl": "",
      "userId": "17803260883912783595"
     },
     "user_tz": 360
    },
    "id": "VSXD0NLalvP1",
    "outputId": "1291f8c0-e55e-4f61-ffc5-3ec982688dd3"
   },
   "outputs": [
    {
     "data": {
      "image/png": "[encoded data removed]",
      "text/plain": [
       "<Figure size 432x288 with 1 Axes>"
      ]
     },
     "metadata": {
      "needs_background": "light"
     },
     "output_type": "display_data"
    },
    {
     "data": {
      "image/png": "[encoded data removed]",
      "text/plain": [
       "<Figure size 432x288 with 1 Axes>"
      ]
     },
     "metadata": {
      "needs_background": "light"
     },
     "output_type": "display_data"
    }
   ],
   "source": [
    "plt.plot(history.history['mean_squared_error'])\n",
    "plt.title('model mean_squared_error')\n",
    "plt.ylabel('mse')\n",
    "plt.xlabel('epoch')\n",
    "plt.legend(['train', 'test'], loc='upper left')\n",
    "plt.show()\n",
    "\n",
    "plt.plot(history.history['mean_absolute_error'])\n",
    "plt.title('model mean_absolute_error')\n",
    "plt.ylabel('mse')\n",
    "plt.xlabel('epoch')\n",
    "plt.legend(['train', 'test'], loc='upper left')\n",
    "plt.show()"
   ]
  },
  {
   "cell_type": "code",
   "execution_count": 11,
   "metadata": {
    "colab": {},
    "colab_type": "code",
    "id": "GcALa4qpmg3O"
   },
   "outputs": [],
   "source": [
    "## Time series cross validation\n",
    "history_X = [x for x in train_X]\n",
    "history_y = [y for y in train_y]\n",
    "\n",
    "predicted_y_history = []\n",
    "for i in range(len(test_X)):\n",
    "  expected_y = test_y[i]\n",
    "  predicted_y = model.predict(test_X[i].reshape(1,1,4))[0]\n",
    "#   print(\"Expected {}, got {}.\".format(expected_y, predicted_y))\n",
    "  predicted_y_history.append(predicted_y[0])\n",
    "  \n",
    "  history_X.append(test_X[i])\n",
    "  history_y.append(expected_y)\n",
    "\n",
    "  model.fit(np.array(history_X), np.array(history_y), epochs=1, batch_size=32, verbose=0, shuffle=False)\n"
   ]
  },
  {
   "cell_type": "code",
   "execution_count": 12,
   "metadata": {
    "colab": {
     "base_uri": "https://localhost:8080/",
     "height": 35
    },
    "colab_type": "code",
    "executionInfo": {
     "elapsed": 37498,
     "status": "ok",
     "timestamp": 1544490359459,
     "user": {
      "displayName": "Kevin Islas Abud",
      "photoUrl": "",
      "userId": "17803260883912783595"
     },
     "user_tz": 360
    },
    "id": "873Tr3mJrUqu",
    "outputId": "e704f9c1-860e-4dae-f35a-96739b7f12fb"
   },
   "outputs": [
    {
     "name": "stdout",
     "output_type": "stream",
     "text": [
      "MSE:  915.2825245856214\n"
     ]
    }
   ],
   "source": [
    "from sklearn.metrics import mean_squared_error\n",
    "\n",
    "error = mean_squared_error(test_y, predicted_y_history)\n",
    "\n",
    "print(\"MSE: \", error)"
   ]
  },
  {
   "cell_type": "code",
   "execution_count": 13,
   "metadata": {
    "colab": {
     "base_uri": "https://localhost:8080/",
     "height": 376
    },
    "colab_type": "code",
    "executionInfo": {
     "elapsed": 37942,
     "status": "ok",
     "timestamp": 1544490359928,
     "user": {
      "displayName": "Kevin Islas Abud",
      "photoUrl": "",
      "userId": "17803260883912783595"
     },
     "user_tz": 360
    },
    "id": "TsQVf1ANrO9o",
    "outputId": "0d0e1283-28b5-4d39-bfc5-01e780a3d8d7"
   },
   "outputs": [
    {
     "data": {
      "image/png": "[encoded data removed]",
      "text/plain": [
       "<Figure size 432x288 with 1 Axes>"
      ]
     },
     "metadata": {
      "needs_background": "light"
     },
     "output_type": "display_data"
    }
   ],
   "source": [
    "plt.title(\"4 Week ahead predictions\")\n",
    "plt.xlabel(\"Week\")\n",
    "plt.ylabel(\"Cases\")\n",
    "plt.plot(predicted_y_history, label=\"Predicted\")\n",
    "plt.plot(test_y, label = \"Observed\", color=\"orange\")\n",
    "plt.legend()\n",
    "plt.show()"
   ]
  }
 ],
 "metadata": {
  "colab": {
   "collapsed_sections": [],
   "name": "LSTM_4Weeks_SanJuan_Test_Train.ipynb",
   "provenance": [],
   "toc_visible": true,
   "version": "0.3.2"
  },
  "kernelspec": {
   "display_name": "Python 3",
   "language": "python",
   "name": "python3"
  },
  "language_info": {
   "codemirror_mode": {
    "name": "ipython",
    "version": 3
   },
   "file_extension": ".py",
   "mimetype": "text/x-python",
   "name": "python",
   "nbconvert_exporter": "python",
   "pygments_lexer": "ipython3",
   "version": "3.6.7"
  }
 },
 "nbformat": 4,
 "nbformat_minor": 1
}
