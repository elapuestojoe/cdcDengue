{
 "cells": [
  {
   "cell_type": "code",
   "execution_count": 1,
   "metadata": {
    "colab": {
     "base_uri": "https://localhost:8080/",
     "height": 35
    },
    "colab_type": "code",
    "executionInfo": {
     "elapsed": 667,
     "status": "ok",
     "timestamp": 1544490222421,
     "user": {
      "displayName": "Kevin Islas Abud",
      "photoUrl": "",
      "userId": "17803260883912783595"
     },
     "user_tz": 360
    },
    "id": "pyRGLm__8ZNx",
    "outputId": "e2526ecf-b9ea-4411-a4e6-6bd220d7fea9"
   },
   "outputs": [],
   "source": [
    "# from google.colab import drive\n",
    "# drive.mount('/content/drive')"
   ]
  },
  {
   "cell_type": "code",
   "execution_count": 2,
   "metadata": {
    "colab": {},
    "colab_type": "code",
    "id": "fCFXsyHb7VYk"
   },
   "outputs": [],
   "source": [
    "import pandas as pd\n",
    "import matplotlib.pyplot as plt\n",
    "import numpy as np"
   ]
  },
  {
   "cell_type": "code",
   "execution_count": 3,
   "metadata": {
    "colab": {
     "base_uri": "https://localhost:8080/",
     "height": 399
    },
    "colab_type": "code",
    "executionInfo": {
     "elapsed": 818,
     "status": "ok",
     "timestamp": 1544490222596,
     "user": {
      "displayName": "Kevin Islas Abud",
      "photoUrl": "",
      "userId": "17803260883912783595"
     },
     "user_tz": 360
    },
    "id": "EQqUP0ky7VYs",
    "outputId": "a0a8997c-0e9a-4c86-8e34-cd9719da621f"
   },
   "outputs": [
    {
     "name": "stdout",
     "output_type": "stream",
     "text": [
      "      season  season_week week_start_date  denv1_cases  denv2_cases  \\\n",
      "0  1990/1991            1      1990-04-30            0            0   \n",
      "1  1990/1991            2      1990-05-07            0            0   \n",
      "2  1990/1991            3      1990-05-14            0            0   \n",
      "3  1990/1991            4      1990-05-21            0            0   \n",
      "4  1990/1991            5      1990-05-28            0            0   \n",
      "\n",
      "   denv3_cases  denv4_cases  other_positive_cases  additional_cases  \\\n",
      "0            0            0                     4                 0   \n",
      "1            0            0                     5                 0   \n",
      "2            0            0                     4                 0   \n",
      "3            0            0                     3                 0   \n",
      "4            0            0                     6                 0   \n",
      "\n",
      "   total_cases  \n",
      "0            4  \n",
      "1            5  \n",
      "2            4  \n",
      "3            3  \n",
      "4            6  \n",
      "Number of observations:  988\n"
     ]
    }
   ],
   "source": [
    "sanjuan_training_dataset = pd.read_csv(\"../../dengueData/SanJuan/san_juan_training_data.csv\")\n",
    "# sanjuan_training_dataset = pd.read_csv(\"drive/My Drive/cdcDengue/dengueData/SanJuan/san_juan_training_data.csv\")\n",
    "print(sanjuan_training_dataset.head())\n",
    "print(\"Number of observations: \", len(sanjuan_training_dataset))"
   ]
  },
  {
   "cell_type": "code",
   "execution_count": 4,
   "metadata": {
    "colab": {
     "base_uri": "https://localhost:8080/",
     "height": 35
    },
    "colab_type": "code",
    "executionInfo": {
     "elapsed": 788,
     "status": "ok",
     "timestamp": 1544490222598,
     "user": {
      "displayName": "Kevin Islas Abud",
      "photoUrl": "",
      "userId": "17803260883912783595"
     },
     "user_tz": 360
    },
    "id": "gdYeqrDO7VYy",
    "outputId": "7229771a-f430-4dd1-b6bb-f82de392e0d2"
   },
   "outputs": [
    {
     "name": "stdout",
     "output_type": "stream",
     "text": [
      "(988,)\n"
     ]
    }
   ],
   "source": [
    "sanjuan_training_cases = sanjuan_training_dataset[\"total_cases\"].values\n",
    "print(sanjuan_training_cases.shape)"
   ]
  },
  {
   "cell_type": "code",
   "execution_count": 5,
   "metadata": {
    "colab": {
     "base_uri": "https://localhost:8080/",
     "height": 399
    },
    "colab_type": "code",
    "executionInfo": {
     "elapsed": 910,
     "status": "ok",
     "timestamp": 1544490222752,
     "user": {
      "displayName": "Kevin Islas Abud",
      "photoUrl": "",
      "userId": "17803260883912783595"
     },
     "user_tz": 360
    },
    "id": "k5eCaTDqkEtD",
    "outputId": "d0ca4b60-4289-4072-8e92-f9bbaaa9d3cb"
   },
   "outputs": [
    {
     "name": "stdout",
     "output_type": "stream",
     "text": [
      "      season  season_week week_start_date  denv1_cases  denv2_cases  \\\n",
      "0  1990/1991            1      1990-04-30            0            0   \n",
      "1  1990/1991            2      1990-05-07            0            0   \n",
      "2  1990/1991            3      1990-05-14            0            0   \n",
      "3  1990/1991            4      1990-05-21            0            0   \n",
      "4  1990/1991            5      1990-05-28            0            0   \n",
      "\n",
      "   denv3_cases  denv4_cases  other_positive_cases  additional_cases  \\\n",
      "0            0            0                     4                 0   \n",
      "1            0            0                     5                 0   \n",
      "2            0            0                     4                 0   \n",
      "3            0            0                     3                 0   \n",
      "4            0            0                     6                 0   \n",
      "\n",
      "   total_cases  \n",
      "0            4  \n",
      "1            5  \n",
      "2            4  \n",
      "3            3  \n",
      "4            6  \n",
      "Number of observations:  1196\n"
     ]
    }
   ],
   "source": [
    "sanjuan_testing_dataset = pd.read_csv(\"../../dengueData/SanJuan/san_juan_testing_data.csv\")\n",
    "# sanjuan_testing_dataset = pd.read_csv(\"drive/My Drive/cdcDengue/dengueData/SanJuan/san_juan_testing_data.csv\")\n",
    "print(sanjuan_testing_dataset.head())\n",
    "print(\"Number of observations: \", len(sanjuan_testing_dataset))"
   ]
  },
  {
   "cell_type": "code",
   "execution_count": 6,
   "metadata": {
    "colab": {
     "base_uri": "https://localhost:8080/",
     "height": 35
    },
    "colab_type": "code",
    "executionInfo": {
     "elapsed": 883,
     "status": "ok",
     "timestamp": 1544490222756,
     "user": {
      "displayName": "Kevin Islas Abud",
      "photoUrl": "",
      "userId": "17803260883912783595"
     },
     "user_tz": 360
    },
    "id": "V4DEwSaUk7ni",
    "outputId": "d7f5d391-7d7d-437c-904a-f4b57d7f1a58"
   },
   "outputs": [
    {
     "name": "stdout",
     "output_type": "stream",
     "text": [
      "(1196,)\n"
     ]
    }
   ],
   "source": [
    "sanjuan_testing_cases = sanjuan_testing_dataset[\"total_cases\"].values\n",
    "print(sanjuan_testing_cases.shape)"
   ]
  },
  {
   "cell_type": "code",
   "execution_count": 7,
   "metadata": {
    "colab": {},
    "colab_type": "code",
    "id": "9OWNAm-A7VY4"
   },
   "outputs": [],
   "source": [
    "def series_to_timeseries_window(data, windowSize, future_steps):\n",
    "    x = []\n",
    "    y = []\n",
    "    for i in range(len(data)-windowSize-future_steps):\n",
    "        x_observation = []\n",
    "        y_observation = [data[i+windowSize+future_steps]]\n",
    "        for j in range(windowSize):\n",
    "            x_observation.append(data[i+j])\n",
    "        x.append(x_observation)\n",
    "        y.append(y_observation)\n",
    "    return np.array(x), np.array(y)"
   ]
  },
  {
   "cell_type": "code",
   "execution_count": 8,
   "metadata": {
    "colab": {
     "base_uri": "https://localhost:8080/",
     "height": 363
    },
    "colab_type": "code",
    "executionInfo": {
     "elapsed": 853,
     "status": "ok",
     "timestamp": 1544490222765,
     "user": {
      "displayName": "Kevin Islas Abud",
      "photoUrl": "",
      "userId": "17803260883912783595"
     },
     "user_tz": 360
    },
    "id": "vSKMgUCM7VY7",
    "outputId": "edaacce2-2c29-45d3-d537-f6c1683c4fb2"
   },
   "outputs": [
    {
     "name": "stdout",
     "output_type": "stream",
     "text": [
      "[[ 1  2  3  4]\n",
      " [ 2  3  4  5]\n",
      " [ 3  4  5  6]\n",
      " [ 4  5  6  7]\n",
      " [ 5  6  7  8]\n",
      " [ 6  7  8  9]\n",
      " [ 7  8  9 10]\n",
      " [ 8  9 10 11]\n",
      " [ 9 10 11 12]]\n",
      "[[ 7]\n",
      " [ 8]\n",
      " [ 9]\n",
      " [10]\n",
      " [11]\n",
      " [12]\n",
      " [13]\n",
      " [14]\n",
      " [15]]\n",
      "9\n"
     ]
    }
   ],
   "source": [
    "#Test that the method works\n",
    "test_data = [1, 2, 3, 4, 5, 6, 7, 8, 9, 10, 11, 12, 13, 14, 15]\n",
    "\n",
    "tX, ty = series_to_timeseries_window(test_data, 4, 2)\n",
    "\n",
    "print(tX)\n",
    "print(ty)\n",
    "\n",
    "print(len(tX))"
   ]
  },
  {
   "cell_type": "code",
   "execution_count": 9,
   "metadata": {
    "colab": {},
    "colab_type": "code",
    "id": "qZtdP8cC7VZB"
   },
   "outputs": [
    {
     "name": "stdout",
     "output_type": "stream",
     "text": [
      "reframed_X:  (1190, 4)\n",
      "reframed_y:  (1190, 1)\n",
      "(982, 1, 4)\n",
      "(982, 1)\n",
      "(208, 1, 4)\n",
      "(208, 1)\n"
     ]
    }
   ],
   "source": [
    "window_size = 4\n",
    "steps = 3\n",
    "split_index = len(sanjuan_training_cases)\n",
    "reframed_X, reframed_y = series_to_timeseries_window(sanjuan_testing_cases, window_size, steps-1)\n",
    "\n",
    "print(\"reframed_X: \", reframed_X.shape)\n",
    "print(\"reframed_y: \", reframed_y.shape)\n",
    "# shape = size - window_size\n",
    "\n",
    "train_X = reframed_X[:split_index-window_size-(steps-1)]\n",
    "train_y = reframed_y[:split_index-window_size-(steps-1)]\n",
    "\n",
    "test_X = reframed_X[split_index-window_size-(steps-1):]\n",
    "test_y = reframed_y[split_index-window_size-(steps-1):]\n",
    "\n",
    "train_X = train_X.reshape(train_X.shape[0], 1, train_X.shape[1])\n",
    "\n",
    "test_X = test_X.reshape(test_X.shape[0], 1, test_X.shape[1])\n",
    "\n",
    "print(train_X.shape)\n",
    "print(train_y.shape)\n",
    "\n",
    "print(test_X.shape)\n",
    "print(test_y.shape)"
   ]
  },
  {
   "cell_type": "markdown",
   "metadata": {
    "colab_type": "text",
    "id": "ftIZqDot7VZK"
   },
   "source": [
    "## Train model"
   ]
  },
  {
   "cell_type": "code",
   "execution_count": 10,
   "metadata": {
    "colab": {
     "base_uri": "https://localhost:8080/",
     "height": 35
    },
    "colab_type": "code",
    "executionInfo": {
     "elapsed": 19411,
     "status": "ok",
     "timestamp": 1544490241361,
     "user": {
      "displayName": "Kevin Islas Abud",
      "photoUrl": "",
      "userId": "17803260883912783595"
     },
     "user_tz": 360
    },
    "id": "oF-OEUc8lmSC",
    "outputId": "0ea3e85c-0c61-4c4d-c62c-7448fe633fce"
   },
   "outputs": [
    {
     "name": "stderr",
     "output_type": "stream",
     "text": [
      "Using TensorFlow backend.\n"
     ]
    }
   ],
   "source": [
    "from keras.models import Sequential\n",
    "from keras.layers import LSTM, Dense, Input, Flatten\n",
    "from keras.layers.merge import concatenate\n",
    "from keras.constraints import non_neg\n",
    "from keras.models import Model\n",
    "from sklearn.metrics import mean_squared_error\n",
    "from keras.optimizers import Adam\n",
    "input_layer = Input(shape=(1,4))\n",
    "b1_out = LSTM(64, return_sequences=False)(input_layer)\n",
    "\n",
    "b2_out = Dense(32, activation=\"relu\", kernel_regularizer=\"l2\")(input_layer)\n",
    "b2_out = Flatten()(b2_out)\n",
    "\n",
    "concatenated = concatenate([b1_out, b2_out])\n",
    "out = Dense(4, activation=\"relu\", kernel_regularizer=\"l2\")(concatenated)\n",
    "out = Dense(4, activation=\"relu\", kernel_regularizer=\"l2\")(out)\n",
    "out = Dense(1, activation=\"linear\", kernel_constraint=non_neg(), name='output_layer')(out)\n",
    "\n",
    "model = Model([input_layer], out)\n",
    "model.compile(loss=[\"mse\"], optimizer=Adam(0.0001), metrics=[\"mae\", \"mse\"])\n",
    "\n",
    "history = model.fit(train_X, train_y, epochs=200, batch_size=32, verbose=0, shuffle=False)\n"
   ]
  },
  {
   "cell_type": "code",
   "execution_count": 11,
   "metadata": {
    "colab": {
     "base_uri": "https://localhost:8080/",
     "height": 735
    },
    "colab_type": "code",
    "executionInfo": {
     "elapsed": 19821,
     "status": "ok",
     "timestamp": 1544490241796,
     "user": {
      "displayName": "Kevin Islas Abud",
      "photoUrl": "",
      "userId": "17803260883912783595"
     },
     "user_tz": 360
    },
    "id": "VSXD0NLalvP1",
    "outputId": "f29e0890-f406-474e-ae46-0f6d33a51cc3"
   },
   "outputs": [
    {
     "data": {
      "image/png": "[encoded data removed]",
      "text/plain": [
       "<Figure size 432x288 with 1 Axes>"
      ]
     },
     "metadata": {
      "needs_background": "light"
     },
     "output_type": "display_data"
    },
    {
     "data": {
      "image/png": "[encoded data removed]",
      "text/plain": [
       "<Figure size 432x288 with 1 Axes>"
      ]
     },
     "metadata": {
      "needs_background": "light"
     },
     "output_type": "display_data"
    }
   ],
   "source": [
    "plt.plot(history.history['mean_squared_error'])\n",
    "plt.title('model mean_squared_error')\n",
    "plt.ylabel('mse')\n",
    "plt.xlabel('epoch')\n",
    "plt.legend(['train', 'test'], loc='upper left')\n",
    "plt.show()\n",
    "\n",
    "plt.plot(history.history['mean_absolute_error'])\n",
    "plt.title('model mean_absolute_error')\n",
    "plt.ylabel('mse')\n",
    "plt.xlabel('epoch')\n",
    "plt.legend(['train', 'test'], loc='upper left')\n",
    "plt.show()"
   ]
  },
  {
   "cell_type": "code",
   "execution_count": 12,
   "metadata": {
    "colab": {},
    "colab_type": "code",
    "id": "GcALa4qpmg3O"
   },
   "outputs": [],
   "source": [
    "## Time series cross validation\n",
    "history_X = [x for x in train_X]\n",
    "history_y = [y for y in train_y]\n",
    "\n",
    "predicted_y_history = []\n",
    "for i in range(len(test_X)):\n",
    "  expected_y = test_y[i]\n",
    "  predicted_y = model.predict(test_X[i].reshape(1,1,4))[0]\n",
    "#   print(\"Expected {}, got {}.\".format(expected_y, predicted_y))\n",
    "  predicted_y_history.append(predicted_y[0])\n",
    "  \n",
    "  history_X.append(test_X[i])\n",
    "  history_y.append(expected_y)\n",
    "\n",
    "  model.fit(np.array(history_X), np.array(history_y), epochs=1, batch_size=32, verbose=0, shuffle=False)\n"
   ]
  },
  {
   "cell_type": "code",
   "execution_count": 13,
   "metadata": {
    "colab": {
     "base_uri": "https://localhost:8080/",
     "height": 35
    },
    "colab_type": "code",
    "executionInfo": {
     "elapsed": 37173,
     "status": "ok",
     "timestamp": 1544490259333,
     "user": {
      "displayName": "Kevin Islas Abud",
      "photoUrl": "",
      "userId": "17803260883912783595"
     },
     "user_tz": 360
    },
    "id": "873Tr3mJrUqu",
    "outputId": "311a4c4b-967e-4f80-b849-78fade7fe7b8"
   },
   "outputs": [
    {
     "name": "stdout",
     "output_type": "stream",
     "text": [
      "MSE:  718.9188416438326\n"
     ]
    }
   ],
   "source": [
    "from sklearn.metrics import mean_squared_error\n",
    "\n",
    "error = mean_squared_error(test_y, predicted_y_history)\n",
    "\n",
    "print(\"MSE: \", error)"
   ]
  },
  {
   "cell_type": "code",
   "execution_count": 14,
   "metadata": {
    "colab": {
     "base_uri": "https://localhost:8080/",
     "height": 376
    },
    "colab_type": "code",
    "executionInfo": {
     "elapsed": 37576,
     "status": "ok",
     "timestamp": 1544490259765,
     "user": {
      "displayName": "Kevin Islas Abud",
      "photoUrl": "",
      "userId": "17803260883912783595"
     },
     "user_tz": 360
    },
    "id": "TsQVf1ANrO9o",
    "outputId": "f5c16eb2-1770-46a7-fabd-5ef6c5aa56b1"
   },
   "outputs": [
    {
     "data": {
      "image/png": "[encoded data removed]",
      "text/plain": [
       "<Figure size 432x288 with 1 Axes>"
      ]
     },
     "metadata": {
      "needs_background": "light"
     },
     "output_type": "display_data"
    }
   ],
   "source": [
    "plt.title(\"1 Week ahead predictions\")\n",
    "plt.xlabel(\"Week\")\n",
    "plt.ylabel(\"Cases\")\n",
    "plt.plot(predicted_y_history, label=\"Predicted\")\n",
    "plt.plot(test_y, label = \"Observed\", color=\"orange\")\n",
    "plt.legend()\n",
    "plt.show()"
   ]
  }
 ],
 "metadata": {
  "colab": {
   "collapsed_sections": [],
   "name": "LSTM_3Weeks_SanJuan_Test_Train.ipynb",
   "provenance": [],
   "toc_visible": true,
   "version": "0.3.2"
  },
  "kernelspec": {
   "display_name": "Python 3",
   "language": "python",
   "name": "python3"
  },
  "language_info": {
   "codemirror_mode": {
    "name": "ipython",
    "version": 3
   },
   "file_extension": ".py",
   "mimetype": "text/x-python",
   "name": "python",
   "nbconvert_exporter": "python",
   "pygments_lexer": "ipython3",
   "version": "3.6.7"
  }
 },
 "nbformat": 4,
 "nbformat_minor": 1
}
