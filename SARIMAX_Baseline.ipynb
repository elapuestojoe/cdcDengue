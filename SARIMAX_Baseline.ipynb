{
 "cells": [
  {
   "cell_type": "code",
   "execution_count": 1,
   "metadata": {},
   "outputs": [],
   "source": [
    "import pandas as pd\n",
    "import matplotlib.pyplot as plt\n",
    "import numpy as np"
   ]
  },
  {
   "cell_type": "code",
   "execution_count": 2,
   "metadata": {},
   "outputs": [
    {
     "name": "stdout",
     "output_type": "stream",
     "text": [
      "      season  season_week week_start_date  denv1_cases  denv2_cases  \\\n",
      "0  2000/2001            1      2000-07-01            0            0   \n",
      "1  2000/2001            2      2000-07-08            0            0   \n",
      "2  2000/2001            3      2000-07-15            0            0   \n",
      "3  2000/2001            4      2000-07-22            0            0   \n",
      "4  2000/2001            5      2000-07-29            0            0   \n",
      "\n",
      "   denv3_cases  denv4_cases  other_positive_cases  total_cases  \n",
      "0            0            0                     0            0  \n",
      "1            0            0                     0            0  \n",
      "2            0            0                     0            0  \n",
      "3            0            0                     0            0  \n",
      "4            0            0                     0            0  \n",
      "Number of observations:  468\n"
     ]
    }
   ],
   "source": [
    "iquitos_dataset = pd.read_csv(\"dengueData/Iquitos/iquitos_training_data.csv\")\n",
    "print(iquitos_dataset.head())\n",
    "print(\"Number of observations: \", len(iquitos_dataset))"
   ]
  },
  {
   "cell_type": "code",
   "execution_count": 3,
   "metadata": {},
   "outputs": [
    {
     "name": "stdout",
     "output_type": "stream",
     "text": [
      "(468,)\n"
     ]
    }
   ],
   "source": [
    "iquitos_cases = iquitos_dataset[\"total_cases\"].values\n",
    "print(iquitos_cases.shape)"
   ]
  },
  {
   "cell_type": "code",
   "execution_count": 4,
   "metadata": {},
   "outputs": [
    {
     "name": "stdout",
     "output_type": "stream",
     "text": [
      "(331,)\n",
      "(137,)\n"
     ]
    }
   ],
   "source": [
    "split_index = int(len(iquitos_cases)* 0.7)\n",
    "window_size = 4\n",
    "train = iquitos_cases[:split_index+window_size]\n",
    "test = iquitos_cases[split_index+window_size:]\n",
    "\n",
    "print(train.shape)\n",
    "print(test.shape)"
   ]
  },
  {
   "cell_type": "code",
   "execution_count": 5,
   "metadata": {},
   "outputs": [
    {
     "name": "stderr",
     "output_type": "stream",
     "text": [
      "E:\\Aplicaciones\\Anaconda3\\envs\\ML\\lib\\site-packages\\scipy\\signal\\signaltools.py:1341: FutureWarning: Using a non-tuple sequence for multidimensional indexing is deprecated; use `arr[tuple(seq)]` instead of `arr[seq]`. In the future this will be interpreted as an array index, `arr[np.array(seq)]`, which will result either in an error or a different result.\n",
      "  out_full[ind] += zi\n",
      "E:\\Aplicaciones\\Anaconda3\\envs\\ML\\lib\\site-packages\\scipy\\signal\\signaltools.py:1344: FutureWarning: Using a non-tuple sequence for multidimensional indexing is deprecated; use `arr[tuple(seq)]` instead of `arr[seq]`. In the future this will be interpreted as an array index, `arr[np.array(seq)]`, which will result either in an error or a different result.\n",
      "  out = out_full[ind]\n",
      "E:\\Aplicaciones\\Anaconda3\\envs\\ML\\lib\\site-packages\\scipy\\signal\\signaltools.py:1350: FutureWarning: Using a non-tuple sequence for multidimensional indexing is deprecated; use `arr[tuple(seq)]` instead of `arr[seq]`. In the future this will be interpreted as an array index, `arr[np.array(seq)]`, which will result either in an error or a different result.\n",
      "  zf = out_full[ind]\n"
     ]
    },
    {
     "name": "stdout",
     "output_type": "stream",
     "text": [
      "predicted=5.902861, expected=2.000000\n",
      "predicted=2.228467, expected=13.000000\n",
      "predicted=12.513664, expected=10.000000\n",
      "predicted=6.518842, expected=5.000000\n",
      "predicted=6.087190, expected=2.000000\n",
      "predicted=5.348053, expected=0.000000\n",
      "predicted=1.383399, expected=1.000000\n",
      "predicted=2.281620, expected=0.000000\n",
      "predicted=0.505902, expected=14.000000\n",
      "predicted=11.540929, expected=6.000000\n",
      "predicted=2.379971, expected=10.000000\n",
      "predicted=10.535056, expected=5.000000\n",
      "predicted=5.553032, expected=12.000000\n",
      "predicted=10.691472, expected=9.000000\n",
      "predicted=8.319946, expected=5.000000\n",
      "predicted=5.909831, expected=11.000000\n",
      "predicted=12.056558, expected=2.000000\n",
      "predicted=1.671136, expected=6.000000\n",
      "predicted=8.207460, expected=7.000000\n",
      "predicted=6.654839, expected=6.000000\n",
      "predicted=4.925092, expected=5.000000\n",
      "predicted=6.257024, expected=9.000000\n",
      "predicted=8.272877, expected=5.000000\n",
      "predicted=4.431952, expected=8.000000\n",
      "predicted=8.495225, expected=3.000000\n",
      "predicted=3.603165, expected=4.000000\n",
      "predicted=5.077993, expected=11.000000\n",
      "predicted=9.933947, expected=5.000000\n",
      "predicted=3.334677, expected=8.000000\n",
      "predicted=9.203118, expected=4.000000\n",
      "predicted=4.435907, expected=3.000000\n",
      "predicted=3.967148, expected=1.000000\n",
      "predicted=2.893752, expected=2.000000\n",
      "predicted=2.496724, expected=3.000000\n",
      "predicted=2.977899, expected=4.000000\n",
      "predicted=3.347581, expected=1.000000\n",
      "predicted=1.360022, expected=8.000000\n",
      "predicted=7.294992, expected=5.000000\n",
      "predicted=3.268783, expected=3.000000\n",
      "predicted=3.723254, expected=2.000000\n",
      "predicted=3.635367, expected=7.000000\n",
      "predicted=5.912839, expected=1.000000\n",
      "predicted=0.901555, expected=6.000000\n",
      "predicted=6.683144, expected=7.000000\n",
      "predicted=5.641379, expected=5.000000\n",
      "predicted=4.072320, expected=2.000000\n",
      "predicted=3.893666, expected=6.000000\n",
      "predicted=6.058852, expected=11.000000\n",
      "predicted=8.551299, expected=6.000000\n",
      "predicted=4.925419, expected=3.000000\n",
      "predicted=5.307519, expected=11.000000\n",
      "predicted=10.556317, expected=11.000000\n",
      "predicted=7.851831, expected=5.000000\n",
      "predicted=5.893906, expected=4.000000\n",
      "predicted=6.886785, expected=9.000000\n",
      "predicted=8.323596, expected=23.000000\n",
      "predicted=17.804374, expected=28.000000\n",
      "predicted=21.147054, expected=26.000000\n",
      "predicted=22.790937, expected=7.000000\n",
      "predicted=11.003641, expected=29.000000\n",
      "predicted=30.352435, expected=58.000000\n",
      "predicted=44.498738, expected=26.000000\n",
      "predicted=18.779490, expected=38.000000\n",
      "predicted=45.916221, expected=35.000000\n",
      "predicted=33.584028, expected=37.000000\n",
      "predicted=35.162623, expected=20.000000\n",
      "predicted=26.829527, expected=29.000000\n",
      "predicted=32.314219, expected=25.000000\n",
      "predicted=25.404642, expected=23.000000\n",
      "predicted=23.720899, expected=9.000000\n",
      "predicted=15.859880, expected=3.000000\n",
      "predicted=9.797221, expected=6.000000\n",
      "predicted=9.689350, expected=6.000000\n",
      "predicted=5.500222, expected=3.000000\n",
      "predicted=4.191005, expected=1.000000\n",
      "predicted=3.153504, expected=3.000000\n",
      "predicted=3.449232, expected=1.000000\n",
      "predicted=0.968245, expected=1.000000\n",
      "predicted=1.650263, expected=0.000000\n",
      "predicted=0.708394, expected=2.000000\n",
      "predicted=1.674764, expected=1.000000\n",
      "predicted=0.760836, expected=1.000000\n",
      "predicted=1.102757, expected=0.000000\n",
      "predicted=0.516702, expected=0.000000\n",
      "predicted=0.237825, expected=1.000000\n",
      "predicted=0.923645, expected=0.000000\n",
      "predicted=-0.137020, expected=3.000000\n",
      "predicted=2.507395, expected=3.000000\n",
      "predicted=2.011603, expected=1.000000\n",
      "predicted=1.071584, expected=5.000000\n",
      "predicted=4.832908, expected=2.000000\n",
      "predicted=1.367079, expected=5.000000\n",
      "predicted=4.778987, expected=5.000000\n",
      "predicted=4.478395, expected=5.000000\n",
      "predicted=4.310918, expected=9.000000\n",
      "predicted=8.192278, expected=17.000000\n",
      "predicted=13.168348, expected=19.000000\n",
      "predicted=14.964602, expected=25.000000\n",
      "predicted=21.862212, expected=45.000000\n",
      "predicted=37.687239, expected=34.000000\n",
      "predicted=28.534109, expected=63.000000\n",
      "predicted=57.672323, expected=44.000000\n",
      "predicted=41.673845, expected=50.000000\n",
      "predicted=50.175271, expected=35.000000\n",
      "predicted=42.439231, expected=16.000000\n",
      "predicted=23.648923, expected=16.000000\n",
      "predicted=25.055738, expected=13.000000\n",
      "predicted=14.692745, expected=9.000000\n",
      "predicted=10.562937, expected=15.000000\n",
      "predicted=15.776157, expected=4.000000\n",
      "predicted=5.314454, expected=0.000000\n",
      "predicted=3.795261, expected=1.000000\n",
      "predicted=3.358253, expected=10.000000\n",
      "predicted=6.901936, expected=11.000000\n",
      "predicted=8.083417, expected=29.000000\n",
      "predicted=23.518392, expected=35.000000\n",
      "predicted=28.628570, expected=30.000000\n",
      "predicted=27.769144, expected=20.000000\n",
      "predicted=24.375565, expected=21.000000\n",
      "predicted=23.668133, expected=12.000000\n",
      "predicted=14.329284, expected=9.000000\n",
      "predicted=12.150655, expected=11.000000\n",
      "predicted=12.824050, expected=9.000000\n",
      "predicted=8.717099, expected=5.000000\n",
      "predicted=6.757312, expected=11.000000\n",
      "predicted=11.166901, expected=3.000000\n",
      "predicted=3.372780, expected=5.000000\n",
      "predicted=6.262916, expected=5.000000\n",
      "predicted=5.619213, expected=4.000000\n",
      "predicted=3.386824, expected=4.000000\n",
      "predicted=4.833654, expected=1.000000\n",
      "predicted=1.724277, expected=0.000000\n",
      "predicted=1.071759, expected=2.000000\n",
      "predicted=2.107595, expected=3.000000\n",
      "predicted=2.123476, expected=3.000000\n",
      "predicted=2.664577, expected=5.000000\n",
      "predicted=4.586783, expected=2.000000\n",
      "Test MSE: 65.729\n"
     ]
    },
    {
     "data": {
      "image/png": "[encoded data removed]",
      "text/plain": [
       "<Figure size 432x288 with 1 Axes>"
      ]
     },
     "metadata": {
      "needs_background": "light"
     },
     "output_type": "display_data"
    }
   ],
   "source": [
    "from statsmodels.tsa.arima_model import ARIMA\n",
    "from sklearn.metrics import mean_squared_error\n",
    "\n",
    "history = [x for x in train]\n",
    "predictions = list()\n",
    "for t in range(len(test)):\n",
    "    model = ARIMA(history, order=(5,1,0))\n",
    "    model_fit = model.fit(disp=0)\n",
    "    output = model_fit.forecast()\n",
    "    yhat = output[0]\n",
    "    predictions.append(yhat)\n",
    "    obs = test[t]\n",
    "    history.append(obs)\n",
    "    print('predicted=%f, expected=%f' % (yhat, obs))\n",
    "error = mean_squared_error(test, predictions)\n",
    "print('Test MSE: %.3f' % error)\n",
    "# plot\n",
    "plt.plot(test)\n",
    "plt.plot(predictions, color='red')\n",
    "plt.show()"
   ]
  }
 ],
 "metadata": {
  "kernelspec": {
   "display_name": "Python 3",
   "language": "python",
   "name": "python3"
  },
  "language_info": {
   "codemirror_mode": {
    "name": "ipython",
    "version": 3
   },
   "file_extension": ".py",
   "mimetype": "text/x-python",
   "name": "python",
   "nbconvert_exporter": "python",
   "pygments_lexer": "ipython3",
   "version": "3.6.7"
  }
 },
 "nbformat": 4,
 "nbformat_minor": 2
}
