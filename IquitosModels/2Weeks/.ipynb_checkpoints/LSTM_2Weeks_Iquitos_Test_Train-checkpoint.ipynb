{
 "cells": [
  {
   "cell_type": "code",
   "execution_count": 1,
   "metadata": {
    "colab": {
     "base_uri": "https://localhost:8080/",
     "height": 35
    },
    "colab_type": "code",
    "executionInfo": {
     "elapsed": 659,
     "status": "ok",
     "timestamp": 1544500883876,
     "user": {
      "displayName": "Kevin Islas Abud",
      "photoUrl": "",
      "userId": "17803260883912783595"
     },
     "user_tz": 360
    },
    "id": "pyRGLm__8ZNx",
    "outputId": "84ca4924-aa65-40db-8d43-432d10469754"
   },
   "outputs": [],
   "source": [
    "# from google.colab import drive\n",
    "# drive.mount('/content/drive')"
   ]
  },
  {
   "cell_type": "code",
   "execution_count": 2,
   "metadata": {
    "colab": {},
    "colab_type": "code",
    "id": "fCFXsyHb7VYk"
   },
   "outputs": [],
   "source": [
    "import pandas as pd\n",
    "import matplotlib.pyplot as plt\n",
    "import numpy as np"
   ]
  },
  {
   "cell_type": "code",
   "execution_count": 3,
   "metadata": {
    "colab": {
     "base_uri": "https://localhost:8080/",
     "height": 272
    },
    "colab_type": "code",
    "executionInfo": {
     "elapsed": 600,
     "status": "ok",
     "timestamp": 1544500883880,
     "user": {
      "displayName": "Kevin Islas Abud",
      "photoUrl": "",
      "userId": "17803260883912783595"
     },
     "user_tz": 360
    },
    "id": "EQqUP0ky7VYs",
    "outputId": "2afa87c0-681e-487e-8190-1c0a55882164"
   },
   "outputs": [
    {
     "name": "stdout",
     "output_type": "stream",
     "text": [
      "      season  season_week week_start_date  denv1_cases  denv2_cases  \\\n",
      "0  2000/2001            1      2000-07-01            0            0   \n",
      "1  2000/2001            2      2000-07-08            0            0   \n",
      "2  2000/2001            3      2000-07-15            0            0   \n",
      "3  2000/2001            4      2000-07-22            0            0   \n",
      "4  2000/2001            5      2000-07-29            0            0   \n",
      "\n",
      "   denv3_cases  denv4_cases  other_positive_cases  total_cases  \n",
      "0            0            0                     0            0  \n",
      "1            0            0                     0            0  \n",
      "2            0            0                     0            0  \n",
      "3            0            0                     0            0  \n",
      "4            0            0                     0            0  \n",
      "Number of observations:  468\n"
     ]
    }
   ],
   "source": [
    "# iquitos_training_dataset = pd.read_csv(\"drive/My Drive/cdcDengue/dengueData/Iquitos/iquitos_training_data.csv\")\n",
    "iquitos_training_dataset = pd.read_csv(\"../../dengueData/Iquitos/iquitos_training_data.csv\")\n",
    "print(iquitos_training_dataset.head())\n",
    "print(\"Number of observations: \", len(iquitos_training_dataset))"
   ]
  },
  {
   "cell_type": "code",
   "execution_count": 4,
   "metadata": {
    "colab": {
     "base_uri": "https://localhost:8080/",
     "height": 35
    },
    "colab_type": "code",
    "executionInfo": {
     "elapsed": 577,
     "status": "ok",
     "timestamp": 1544500883881,
     "user": {
      "displayName": "Kevin Islas Abud",
      "photoUrl": "",
      "userId": "17803260883912783595"
     },
     "user_tz": 360
    },
    "id": "gdYeqrDO7VYy",
    "outputId": "7aa2273e-2f37-48eb-f37e-a2d92bd3614d"
   },
   "outputs": [
    {
     "name": "stdout",
     "output_type": "stream",
     "text": [
      "(468,)\n"
     ]
    }
   ],
   "source": [
    "iquitos_training_cases = iquitos_training_dataset[\"total_cases\"].values\n",
    "print(iquitos_training_cases.shape)"
   ]
  },
  {
   "cell_type": "code",
   "execution_count": 5,
   "metadata": {
    "colab": {
     "base_uri": "https://localhost:8080/",
     "height": 272
    },
    "colab_type": "code",
    "executionInfo": {
     "elapsed": 757,
     "status": "ok",
     "timestamp": 1544500884086,
     "user": {
      "displayName": "Kevin Islas Abud",
      "photoUrl": "",
      "userId": "17803260883912783595"
     },
     "user_tz": 360
    },
    "id": "k5eCaTDqkEtD",
    "outputId": "59f425cd-c27d-4ffd-af5d-f2cdcff783cd"
   },
   "outputs": [
    {
     "name": "stdout",
     "output_type": "stream",
     "text": [
      "      season  season_week week_start_date  denv1_cases  denv2_cases  \\\n",
      "0  2000/2001            1      2000-07-01            0            0   \n",
      "1  2000/2001            2      2000-07-08            0            0   \n",
      "2  2000/2001            3      2000-07-15            0            0   \n",
      "3  2000/2001            4      2000-07-22            0            0   \n",
      "4  2000/2001            5      2000-07-29            0            0   \n",
      "\n",
      "   denv3_cases  denv4_cases  other_positive_cases  total_cases  \n",
      "0            0            0                     0            0  \n",
      "1            0            0                     0            0  \n",
      "2            0            0                     0            0  \n",
      "3            0            0                     0            0  \n",
      "4            0            0                     0            0  \n",
      "Number of observations:  676\n"
     ]
    }
   ],
   "source": [
    "iquitos_testing_dataset = pd.read_csv(\"../../dengueData/Iquitos/iquitos_testing_data.csv\")\n",
    "# iquitos_testing_dataset = pd.read_csv(\"drive/My Drive/cdcDengue/dengueData/Iquitos/iquitos_testing_data.csv\")\n",
    "print(iquitos_testing_dataset.head())\n",
    "print(\"Number of observations: \", len(iquitos_testing_dataset))"
   ]
  },
  {
   "cell_type": "code",
   "execution_count": 6,
   "metadata": {
    "colab": {
     "base_uri": "https://localhost:8080/",
     "height": 35
    },
    "colab_type": "code",
    "executionInfo": {
     "elapsed": 738,
     "status": "ok",
     "timestamp": 1544500884088,
     "user": {
      "displayName": "Kevin Islas Abud",
      "photoUrl": "",
      "userId": "17803260883912783595"
     },
     "user_tz": 360
    },
    "id": "V4DEwSaUk7ni",
    "outputId": "b774b731-0943-40f9-8f30-8fb2bcf33d42"
   },
   "outputs": [
    {
     "name": "stdout",
     "output_type": "stream",
     "text": [
      "(676,)\n"
     ]
    }
   ],
   "source": [
    "iquitos_testing_cases = iquitos_testing_dataset[\"total_cases\"].values\n",
    "print(iquitos_testing_cases.shape)"
   ]
  },
  {
   "cell_type": "code",
   "execution_count": 7,
   "metadata": {
    "colab": {},
    "colab_type": "code",
    "id": "9OWNAm-A7VY4"
   },
   "outputs": [],
   "source": [
    "def series_to_timeseries_window(data, windowSize, future_steps):\n",
    "    x = []\n",
    "    y = []\n",
    "    for i in range(len(data)-windowSize-future_steps):\n",
    "        x_observation = []\n",
    "        y_observation = [data[i+windowSize+future_steps]]\n",
    "        for j in range(windowSize):\n",
    "            x_observation.append(data[i+j])\n",
    "        x.append(x_observation)\n",
    "        y.append(y_observation)\n",
    "    return np.array(x), np.array(y)"
   ]
  },
  {
   "cell_type": "code",
   "execution_count": 8,
   "metadata": {
    "colab": {
     "base_uri": "https://localhost:8080/",
     "height": 399
    },
    "colab_type": "code",
    "executionInfo": {
     "elapsed": 688,
     "status": "ok",
     "timestamp": 1544500884092,
     "user": {
      "displayName": "Kevin Islas Abud",
      "photoUrl": "",
      "userId": "17803260883912783595"
     },
     "user_tz": 360
    },
    "id": "vSKMgUCM7VY7",
    "outputId": "77129d2c-f04a-46ea-b72c-b035b9d4e505"
   },
   "outputs": [
    {
     "name": "stdout",
     "output_type": "stream",
     "text": [
      "[[ 1  2  3  4]\n",
      " [ 2  3  4  5]\n",
      " [ 3  4  5  6]\n",
      " [ 4  5  6  7]\n",
      " [ 5  6  7  8]\n",
      " [ 6  7  8  9]\n",
      " [ 7  8  9 10]\n",
      " [ 8  9 10 11]\n",
      " [ 9 10 11 12]\n",
      " [10 11 12 13]]\n",
      "[[ 6]\n",
      " [ 7]\n",
      " [ 8]\n",
      " [ 9]\n",
      " [10]\n",
      " [11]\n",
      " [12]\n",
      " [13]\n",
      " [14]\n",
      " [15]]\n",
      "10\n"
     ]
    }
   ],
   "source": [
    "#Test that the method works\n",
    "test_data = [1, 2, 3, 4, 5, 6, 7, 8, 9, 10, 11, 12, 13, 14, 15]\n",
    "\n",
    "tX, ty = series_to_timeseries_window(test_data, 4, 1)\n",
    "\n",
    "print(tX)\n",
    "print(ty)\n",
    "\n",
    "print(len(tX))"
   ]
  },
  {
   "cell_type": "code",
   "execution_count": 21,
   "metadata": {
    "colab": {},
    "colab_type": "code",
    "id": "qZtdP8cC7VZB"
   },
   "outputs": [
    {
     "name": "stdout",
     "output_type": "stream",
     "text": [
      "reframed_X:  (671, 4)\n",
      "reframed_y:  (671, 1)\n",
      "(463, 1, 4)\n",
      "(463, 1)\n",
      "(208, 1, 4)\n",
      "(208, 1)\n"
     ]
    }
   ],
   "source": [
    "window_size = 4\n",
    "steps = 2\n",
    "split_index = len(iquitos_training_cases)\n",
    "reframed_X, reframed_y = series_to_timeseries_window(iquitos_testing_cases, window_size, steps-1)\n",
    "\n",
    "print(\"reframed_X: \", reframed_X.shape)\n",
    "print(\"reframed_y: \", reframed_y.shape)\n",
    "# shape = size - window_size\n",
    "\n",
    "train_X = reframed_X[:split_index-window_size-(steps-1)]\n",
    "train_y = reframed_y[:split_index-window_size-(steps-1)]\n",
    "\n",
    "test_X = reframed_X[split_index-window_size-(steps-1):]\n",
    "test_y = reframed_y[split_index-window_size-(steps-1):]\n",
    "\n",
    "train_X = train_X.reshape(train_X.shape[0], 1, train_X.shape[1])\n",
    "\n",
    "test_X = test_X.reshape(test_X.shape[0], 1, test_X.shape[1])\n",
    "\n",
    "print(train_X.shape)\n",
    "print(train_y.shape)\n",
    "\n",
    "print(test_X.shape)\n",
    "print(test_y.shape)"
   ]
  },
  {
   "cell_type": "markdown",
   "metadata": {
    "colab_type": "text",
    "id": "ftIZqDot7VZK"
   },
   "source": [
    "## Train model"
   ]
  },
  {
   "cell_type": "code",
   "execution_count": 22,
   "metadata": {
    "colab": {
     "base_uri": "https://localhost:8080/",
     "height": 35
    },
    "colab_type": "code",
    "executionInfo": {
     "elapsed": 13952,
     "status": "ok",
     "timestamp": 1544500897406,
     "user": {
      "displayName": "Kevin Islas Abud",
      "photoUrl": "",
      "userId": "17803260883912783595"
     },
     "user_tz": 360
    },
    "id": "oF-OEUc8lmSC",
    "outputId": "3c14aed3-e053-427d-9fca-fc5ff5ea7144"
   },
   "outputs": [],
   "source": [
    "from keras.models import Sequential\n",
    "from keras.layers import LSTM, Dense, Input, Flatten\n",
    "from keras.layers.merge import concatenate\n",
    "from keras.constraints import non_neg\n",
    "from keras.models import Model\n",
    "from sklearn.metrics import mean_squared_error\n",
    "from keras.optimizers import Adam\n",
    "import tensorflow as tf\n",
    "\n",
    "sess = tf.Session()\n",
    "\n",
    "input_layer = Input(shape=(1,4))\n",
    "b1_out = LSTM(64, return_sequences=False)(input_layer)\n",
    "\n",
    "b2_out = Dense(32, activation=\"relu\", kernel_regularizer=\"l2\")(input_layer)\n",
    "b2_out = Flatten()(b2_out)\n",
    "\n",
    "concatenated = concatenate([b1_out, b2_out])\n",
    "out = Dense(4, activation=\"relu\", kernel_regularizer=\"l2\")(concatenated)\n",
    "out = Dense(4, activation=\"relu\", kernel_regularizer=\"l2\")(out)\n",
    "out = Dense(1, activation=\"linear\", kernel_constraint=non_neg(), name='output_layer')(out)\n",
    "\n",
    "model = Model([input_layer], out)\n",
    "model.compile(loss=[\"mse\"], optimizer=Adam(0.0001), metrics=[\"mae\", \"mse\"])\n",
    "\n",
    "history = model.fit(train_X, train_y, epochs=200, batch_size=32, verbose=0, shuffle=False)\n"
   ]
  },
  {
   "cell_type": "code",
   "execution_count": 23,
   "metadata": {
    "colab": {
     "base_uri": "https://localhost:8080/",
     "height": 735
    },
    "colab_type": "code",
    "executionInfo": {
     "elapsed": 14460,
     "status": "ok",
     "timestamp": 1544500897931,
     "user": {
      "displayName": "Kevin Islas Abud",
      "photoUrl": "",
      "userId": "17803260883912783595"
     },
     "user_tz": 360
    },
    "id": "VSXD0NLalvP1",
    "outputId": "e1cbc1fb-b3b6-4f1e-f555-ca7ebbbde864"
   },
   "outputs": [
    {
     "data": {
      "image/png": "[encoded data removed]",
      "text/plain": [
       "<Figure size 432x288 with 1 Axes>"
      ]
     },
     "metadata": {
      "needs_background": "light"
     },
     "output_type": "display_data"
    },
    {
     "data": {
      "image/png": "[encoded data removed]",
      "text/plain": [
       "<Figure size 432x288 with 1 Axes>"
      ]
     },
     "metadata": {
      "needs_background": "light"
     },
     "output_type": "display_data"
    }
   ],
   "source": [
    "plt.plot(history.history['mean_squared_error'])\n",
    "plt.title('model mean_squared_error')\n",
    "plt.ylabel('mse')\n",
    "plt.xlabel('epoch')\n",
    "plt.legend(['train', 'test'], loc='upper left')\n",
    "plt.show()\n",
    "\n",
    "plt.plot(history.history['mean_absolute_error'])\n",
    "plt.title('model mean_absolute_error')\n",
    "plt.ylabel('mse')\n",
    "plt.xlabel('epoch')\n",
    "plt.legend(['train', 'test'], loc='upper left')\n",
    "plt.show()"
   ]
  },
  {
   "cell_type": "code",
   "execution_count": 24,
   "metadata": {
    "colab": {},
    "colab_type": "code",
    "id": "GcALa4qpmg3O"
   },
   "outputs": [],
   "source": [
    "## Time series cross validation\n",
    "history_X = [x for x in train_X]\n",
    "history_y = [y for y in train_y]\n",
    "\n",
    "predicted_y_history = []\n",
    "for i in range(len(test_X)):\n",
    "  expected_y = test_y[i]\n",
    "  predicted_y = model.predict(test_X[i].reshape(1,1,4))[0]\n",
    "#   print(\"Expected {}, got {}.\".format(expected_y, predicted_y))\n",
    "  predicted_y_history.append(predicted_y[0])\n",
    "  \n",
    "  history_X.append(test_X[i])\n",
    "  history_y.append(expected_y)\n",
    "\n",
    "  model.fit(np.array(history_X), np.array(history_y), epochs=1, batch_size=32, verbose=0, shuffle=False)\n",
    "sess.close()"
   ]
  },
  {
   "cell_type": "code",
   "execution_count": 25,
   "metadata": {
    "colab": {
     "base_uri": "https://localhost:8080/",
     "height": 35
    },
    "colab_type": "code",
    "executionInfo": {
     "elapsed": 24016,
     "status": "ok",
     "timestamp": 1544500907506,
     "user": {
      "displayName": "Kevin Islas Abud",
      "photoUrl": "",
      "userId": "17803260883912783595"
     },
     "user_tz": 360
    },
    "id": "873Tr3mJrUqu",
    "outputId": "841853b9-5a71-4724-ecf0-04678169609b"
   },
   "outputs": [
    {
     "name": "stdout",
     "output_type": "stream",
     "text": [
      "MSE:  102.24848495906424\n"
     ]
    }
   ],
   "source": [
    "from sklearn.metrics import mean_squared_error\n",
    "\n",
    "error = mean_squared_error(test_y, predicted_y_history)\n",
    "\n",
    "print(\"MSE: \", error)"
   ]
  },
  {
   "cell_type": "code",
   "execution_count": null,
   "metadata": {
    "colab": {
     "base_uri": "https://localhost:8080/",
     "height": 376
    },
    "colab_type": "code",
    "executionInfo": {
     "elapsed": 24576,
     "status": "ok",
     "timestamp": 1544500908074,
     "user": {
      "displayName": "Kevin Islas Abud",
      "photoUrl": "",
      "userId": "17803260883912783595"
     },
     "user_tz": 360
    },
    "id": "TsQVf1ANrO9o",
    "outputId": "c77e9bb5-06f8-4bd6-951b-6f7604b3befd"
   },
   "outputs": [],
   "source": [
    "plt.title(\"1 Week ahead predictions\")\n",
    "plt.xlabel(\"Week\")\n",
    "plt.ylabel(\"Cases\")\n",
    "plt.plot(predicted_y_history, label=\"Predicted\")\n",
    "plt.plot(test_y, label = \"Observed\", color=\"orange\")\n",
    "plt.legend()\n",
    "plt.show()"
   ]
  }
 ],
 "metadata": {
  "colab": {
   "collapsed_sections": [],
   "name": "LSTM_2Weeks_Iquitos_Test_Train.ipynb",
   "provenance": [],
   "toc_visible": true,
   "version": "0.3.2"
  },
  "kernelspec": {
   "display_name": "Python 3",
   "language": "python",
   "name": "python3"
  },
  "language_info": {
   "codemirror_mode": {
    "name": "ipython",
    "version": 3
   },
   "file_extension": ".py",
   "mimetype": "text/x-python",
   "name": "python",
   "nbconvert_exporter": "python",
   "pygments_lexer": "ipython3",
   "version": "3.6.7"
  }
 },
 "nbformat": 4,
 "nbformat_minor": 1
}
