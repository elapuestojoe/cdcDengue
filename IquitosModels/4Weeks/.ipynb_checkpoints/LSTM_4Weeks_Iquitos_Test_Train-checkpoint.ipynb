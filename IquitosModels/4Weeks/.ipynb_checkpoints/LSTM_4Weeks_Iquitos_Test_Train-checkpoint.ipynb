{
 "cells": [
  {
   "cell_type": "code",
   "execution_count": 1,
   "metadata": {
    "colab": {
     "base_uri": "https://localhost:8080/",
     "height": 35
    },
    "colab_type": "code",
    "executionInfo": {
     "elapsed": 603,
     "status": "ok",
     "timestamp": 1544501038661,
     "user": {
      "displayName": "Kevin Islas Abud",
      "photoUrl": "",
      "userId": "17803260883912783595"
     },
     "user_tz": 360
    },
    "id": "pyRGLm__8ZNx",
    "outputId": "b9da1dc8-9d5b-45d0-db99-4a59d2e18ad7"
   },
   "outputs": [],
   "source": [
    "# from google.colab import drive\n",
    "# drive.mount('/content/drive')"
   ]
  },
  {
   "cell_type": "code",
   "execution_count": 2,
   "metadata": {
    "colab": {},
    "colab_type": "code",
    "id": "fCFXsyHb7VYk"
   },
   "outputs": [],
   "source": [
    "import pandas as pd\n",
    "import matplotlib.pyplot as plt\n",
    "import numpy as np"
   ]
  },
  {
   "cell_type": "code",
   "execution_count": 3,
   "metadata": {
    "colab": {
     "base_uri": "https://localhost:8080/",
     "height": 272
    },
    "colab_type": "code",
    "executionInfo": {
     "elapsed": 547,
     "status": "ok",
     "timestamp": 1544501038665,
     "user": {
      "displayName": "Kevin Islas Abud",
      "photoUrl": "",
      "userId": "17803260883912783595"
     },
     "user_tz": 360
    },
    "id": "EQqUP0ky7VYs",
    "outputId": "f216b0bd-1b59-4876-e8c7-157d7565b738"
   },
   "outputs": [
    {
     "name": "stdout",
     "output_type": "stream",
     "text": [
      "      season  season_week week_start_date  denv1_cases  denv2_cases  \\\n",
      "0  2000/2001            1      2000-07-01            0            0   \n",
      "1  2000/2001            2      2000-07-08            0            0   \n",
      "2  2000/2001            3      2000-07-15            0            0   \n",
      "3  2000/2001            4      2000-07-22            0            0   \n",
      "4  2000/2001            5      2000-07-29            0            0   \n",
      "\n",
      "   denv3_cases  denv4_cases  other_positive_cases  total_cases  \n",
      "0            0            0                     0            0  \n",
      "1            0            0                     0            0  \n",
      "2            0            0                     0            0  \n",
      "3            0            0                     0            0  \n",
      "4            0            0                     0            0  \n",
      "Number of observations:  468\n"
     ]
    }
   ],
   "source": [
    "# iquitos_training_dataset = pd.read_csv(\"drive/My Drive/cdcDengue/dengueData/Iquitos/iquitos_training_data.csv\")\n",
    "iquitos_training_dataset = pd.read_csv(\"../../dengueData/Iquitos/iquitos_training_data.csv\")\n",
    "print(iquitos_training_dataset.head())\n",
    "print(\"Number of observations: \", len(iquitos_training_dataset))"
   ]
  },
  {
   "cell_type": "code",
   "execution_count": 4,
   "metadata": {
    "colab": {
     "base_uri": "https://localhost:8080/",
     "height": 35
    },
    "colab_type": "code",
    "executionInfo": {
     "elapsed": 512,
     "status": "ok",
     "timestamp": 1544501038665,
     "user": {
      "displayName": "Kevin Islas Abud",
      "photoUrl": "",
      "userId": "17803260883912783595"
     },
     "user_tz": 360
    },
    "id": "gdYeqrDO7VYy",
    "outputId": "6ddb3e9d-3869-4893-d711-b3322ff106e7"
   },
   "outputs": [
    {
     "name": "stdout",
     "output_type": "stream",
     "text": [
      "(468,)\n"
     ]
    }
   ],
   "source": [
    "iquitos_training_cases = iquitos_training_dataset[\"total_cases\"].values\n",
    "print(iquitos_training_cases.shape)"
   ]
  },
  {
   "cell_type": "code",
   "execution_count": 5,
   "metadata": {
    "colab": {
     "base_uri": "https://localhost:8080/",
     "height": 272
    },
    "colab_type": "code",
    "executionInfo": {
     "elapsed": 494,
     "status": "ok",
     "timestamp": 1544501038666,
     "user": {
      "displayName": "Kevin Islas Abud",
      "photoUrl": "",
      "userId": "17803260883912783595"
     },
     "user_tz": 360
    },
    "id": "k5eCaTDqkEtD",
    "outputId": "e7985983-7846-46a5-d04c-73728cc0e380"
   },
   "outputs": [
    {
     "name": "stdout",
     "output_type": "stream",
     "text": [
      "      season  season_week week_start_date  denv1_cases  denv2_cases  \\\n",
      "0  2000/2001            1      2000-07-01            0            0   \n",
      "1  2000/2001            2      2000-07-08            0            0   \n",
      "2  2000/2001            3      2000-07-15            0            0   \n",
      "3  2000/2001            4      2000-07-22            0            0   \n",
      "4  2000/2001            5      2000-07-29            0            0   \n",
      "\n",
      "   denv3_cases  denv4_cases  other_positive_cases  total_cases  \n",
      "0            0            0                     0            0  \n",
      "1            0            0                     0            0  \n",
      "2            0            0                     0            0  \n",
      "3            0            0                     0            0  \n",
      "4            0            0                     0            0  \n",
      "Number of observations:  676\n"
     ]
    }
   ],
   "source": [
    "iquitos_testing_dataset = pd.read_csv(\"../../dengueData/Iquitos/iquitos_testing_data.csv\")\n",
    "# iquitos_testing_dataset = pd.read_csv(\"drive/My Drive/cdcDengue/dengueData/Iquitos/iquitos_testing_data.csv\")\n",
    "print(iquitos_testing_dataset.head())\n",
    "print(\"Number of observations: \", len(iquitos_testing_dataset))"
   ]
  },
  {
   "cell_type": "code",
   "execution_count": 6,
   "metadata": {
    "colab": {
     "base_uri": "https://localhost:8080/",
     "height": 35
    },
    "colab_type": "code",
    "executionInfo": {
     "elapsed": 684,
     "status": "ok",
     "timestamp": 1544501038885,
     "user": {
      "displayName": "Kevin Islas Abud",
      "photoUrl": "",
      "userId": "17803260883912783595"
     },
     "user_tz": 360
    },
    "id": "V4DEwSaUk7ni",
    "outputId": "1937b1c4-44db-488c-cb3d-c53e3181660c"
   },
   "outputs": [
    {
     "name": "stdout",
     "output_type": "stream",
     "text": [
      "(676,)\n"
     ]
    }
   ],
   "source": [
    "iquitos_testing_cases = iquitos_testing_dataset[\"total_cases\"].values\n",
    "print(iquitos_testing_cases.shape)"
   ]
  },
  {
   "cell_type": "code",
   "execution_count": 7,
   "metadata": {
    "colab": {},
    "colab_type": "code",
    "id": "9OWNAm-A7VY4"
   },
   "outputs": [],
   "source": [
    "def series_to_timeseries_window(data, windowSize, future_steps):\n",
    "    x = []\n",
    "    y = []\n",
    "    for i in range(len(data)-windowSize-future_steps):\n",
    "        x_observation = []\n",
    "        y_observation = [data[i+windowSize+future_steps]]\n",
    "        for j in range(windowSize):\n",
    "            x_observation.append(data[i+j])\n",
    "        x.append(x_observation)\n",
    "        y.append(y_observation)\n",
    "    return np.array(x), np.array(y)"
   ]
  },
  {
   "cell_type": "code",
   "execution_count": 20,
   "metadata": {
    "colab": {
     "base_uri": "https://localhost:8080/",
     "height": 326
    },
    "colab_type": "code",
    "executionInfo": {
     "elapsed": 662,
     "status": "ok",
     "timestamp": 1544501038890,
     "user": {
      "displayName": "Kevin Islas Abud",
      "photoUrl": "",
      "userId": "17803260883912783595"
     },
     "user_tz": 360
    },
    "id": "vSKMgUCM7VY7",
    "outputId": "d5c51451-a9d8-4ebf-aa78-0b6480e94df1"
   },
   "outputs": [
    {
     "name": "stdout",
     "output_type": "stream",
     "text": [
      "[[ 1  2  3  4]\n",
      " [ 2  3  4  5]\n",
      " [ 3  4  5  6]\n",
      " [ 4  5  6  7]\n",
      " [ 5  6  7  8]\n",
      " [ 6  7  8  9]\n",
      " [ 7  8  9 10]\n",
      " [ 8  9 10 11]]\n",
      "[[ 8]\n",
      " [ 9]\n",
      " [10]\n",
      " [11]\n",
      " [12]\n",
      " [13]\n",
      " [14]\n",
      " [15]]\n",
      "8\n"
     ]
    }
   ],
   "source": [
    "#Test that the method works\n",
    "test_data = [1, 2, 3, 4, 5, 6, 7, 8, 9, 10, 11, 12, 13, 14, 15]\n",
    "\n",
    "tX, ty = series_to_timeseries_window(test_data, 4, 3)\n",
    "\n",
    "print(tX)\n",
    "print(ty)\n",
    "\n",
    "print(len(tX))"
   ]
  },
  {
   "cell_type": "code",
   "execution_count": 9,
   "metadata": {
    "colab": {},
    "colab_type": "code",
    "id": "qZtdP8cC7VZB"
   },
   "outputs": [
    {
     "name": "stdout",
     "output_type": "stream",
     "text": [
      "reframed_X:  (669, 4)\n",
      "reframed_y:  (669, 1)\n",
      "(461, 1, 4)\n",
      "(461, 1)\n",
      "(208, 1, 4)\n",
      "(208, 1)\n"
     ]
    }
   ],
   "source": [
    "window_size = 4\n",
    "steps = 4\n",
    "split_index = len(iquitos_training_cases)\n",
    "reframed_X, reframed_y = series_to_timeseries_window(iquitos_testing_cases, window_size, steps-1)\n",
    "\n",
    "print(\"reframed_X: \", reframed_X.shape)\n",
    "print(\"reframed_y: \", reframed_y.shape)\n",
    "# shape = size - window_size\n",
    "\n",
    "train_X = reframed_X[:split_index-window_size-(steps-1)]\n",
    "train_y = reframed_y[:split_index-window_size-(steps-1)]\n",
    "\n",
    "test_X = reframed_X[split_index-window_size-(steps-1):]\n",
    "test_y = reframed_y[split_index-window_size-(steps-1):]\n",
    "\n",
    "train_X = train_X.reshape(train_X.shape[0], 1, train_X.shape[1])\n",
    "\n",
    "test_X = test_X.reshape(test_X.shape[0], 1, test_X.shape[1])\n",
    "\n",
    "print(train_X.shape)\n",
    "print(train_y.shape)\n",
    "\n",
    "print(test_X.shape)\n",
    "print(test_y.shape)"
   ]
  },
  {
   "cell_type": "markdown",
   "metadata": {
    "colab_type": "text",
    "id": "ftIZqDot7VZK"
   },
   "source": [
    "## Train model"
   ]
  },
  {
   "cell_type": "code",
   "execution_count": 10,
   "metadata": {
    "colab": {
     "base_uri": "https://localhost:8080/",
     "height": 35
    },
    "colab_type": "code",
    "executionInfo": {
     "elapsed": 11995,
     "status": "ok",
     "timestamp": 1544497837087,
     "user": {
      "displayName": "Kevin Islas Abud",
      "photoUrl": "",
      "userId": "17803260883912783595"
     },
     "user_tz": 360
    },
    "id": "oF-OEUc8lmSC",
    "outputId": "b80e46a0-7de9-45b9-ba30-dc21c041b920"
   },
   "outputs": [
    {
     "name": "stderr",
     "output_type": "stream",
     "text": [
      "Using TensorFlow backend.\n"
     ]
    }
   ],
   "source": [
    "from keras.models import Sequential\n",
    "from keras.layers import LSTM, Dense, Input, Flatten\n",
    "from keras.layers.merge import concatenate\n",
    "from keras.constraints import non_neg\n",
    "from keras.models import Model\n",
    "from sklearn.metrics import mean_squared_error\n",
    "from keras.optimizers import Adam\n",
    "input_layer = Input(shape=(1,4))\n",
    "b1_out = LSTM(64, return_sequences=False)(input_layer)\n",
    "\n",
    "b2_out = Dense(32, activation=\"relu\", kernel_regularizer=\"l2\")(input_layer)\n",
    "b2_out = Flatten()(b2_out)\n",
    "\n",
    "concatenated = concatenate([b1_out, b2_out])\n",
    "out = Dense(4, activation=\"relu\", kernel_regularizer=\"l2\")(concatenated)\n",
    "out = Dense(4, activation=\"relu\", kernel_regularizer=\"l2\")(out)\n",
    "out = Dense(1, activation=\"linear\", kernel_constraint=non_neg(), name='output_layer')(out)\n",
    "\n",
    "model = Model([input_layer], out)\n",
    "model.compile(loss=[\"mse\"], optimizer=Adam(0.0001), metrics=[\"mae\", \"mse\"])\n",
    "\n",
    "history = model.fit(train_X, train_y, epochs=200, batch_size=32, verbose=0, shuffle=False)\n"
   ]
  },
  {
   "cell_type": "code",
   "execution_count": 11,
   "metadata": {
    "colab": {},
    "colab_type": "code",
    "id": "VSXD0NLalvP1"
   },
   "outputs": [
    {
     "data": {
      "image/png": "[encoded data removed]",
      "text/plain": [
       "<Figure size 432x288 with 1 Axes>"
      ]
     },
     "metadata": {
      "needs_background": "light"
     },
     "output_type": "display_data"
    },
    {
     "data": {
      "image/png": "[encoded data removed]",
      "text/plain": [
       "<Figure size 432x288 with 1 Axes>"
      ]
     },
     "metadata": {
      "needs_background": "light"
     },
     "output_type": "display_data"
    }
   ],
   "source": [
    "plt.plot(history.history['mean_squared_error'])\n",
    "plt.title('model mean_squared_error')\n",
    "plt.ylabel('mse')\n",
    "plt.xlabel('epoch')\n",
    "plt.legend(['train', 'test'], loc='upper left')\n",
    "plt.show()\n",
    "\n",
    "plt.plot(history.history['mean_absolute_error'])\n",
    "plt.title('model mean_absolute_error')\n",
    "plt.ylabel('mse')\n",
    "plt.xlabel('epoch')\n",
    "plt.legend(['train', 'test'], loc='upper left')\n",
    "plt.show()"
   ]
  },
  {
   "cell_type": "code",
   "execution_count": 12,
   "metadata": {
    "colab": {},
    "colab_type": "code",
    "id": "GcALa4qpmg3O"
   },
   "outputs": [],
   "source": [
    "## Time series cross validation\n",
    "history_X = [x for x in train_X]\n",
    "history_y = [y for y in train_y]\n",
    "\n",
    "predicted_y_history = []\n",
    "for i in range(len(test_X)):\n",
    "  expected_y = test_y[i]\n",
    "  predicted_y = model.predict(test_X[i].reshape(1,1,4))[0]\n",
    "#   print(\"Expected {}, got {}.\".format(expected_y, predicted_y))\n",
    "  predicted_y_history.append(predicted_y[0])\n",
    "  \n",
    "  history_X.append(test_X[i])\n",
    "  history_y.append(expected_y)\n",
    "\n",
    "  model.fit(np.array(history_X), np.array(history_y), epochs=1, batch_size=32, verbose=0, shuffle=False)\n"
   ]
  },
  {
   "cell_type": "code",
   "execution_count": 13,
   "metadata": {
    "colab": {},
    "colab_type": "code",
    "id": "873Tr3mJrUqu"
   },
   "outputs": [
    {
     "name": "stdout",
     "output_type": "stream",
     "text": [
      "MSE:  125.7317900386553\n"
     ]
    }
   ],
   "source": [
    "from sklearn.metrics import mean_squared_error\n",
    "\n",
    "error = mean_squared_error(test_y, predicted_y_history)\n",
    "\n",
    "print(\"MSE: \", error)"
   ]
  },
  {
   "cell_type": "code",
   "execution_count": 14,
   "metadata": {
    "colab": {},
    "colab_type": "code",
    "id": "TsQVf1ANrO9o"
   },
   "outputs": [
    {
     "data": {
      "image/png": "[encoded data removed]",
      "text/plain": [
       "<Figure size 432x288 with 1 Axes>"
      ]
     },
     "metadata": {
      "needs_background": "light"
     },
     "output_type": "display_data"
    }
   ],
   "source": [
    "plt.title(\"4 Week ahead predictions\")\n",
    "plt.xlabel(\"Week\")\n",
    "plt.ylabel(\"Cases\")\n",
    "plt.plot(predicted_y_history, label=\"Predicted\")\n",
    "plt.plot(test_y, label = \"Observed\", color=\"orange\")\n",
    "plt.legend()\n",
    "plt.show()"
   ]
  }
 ],
 "metadata": {
  "colab": {
   "collapsed_sections": [],
   "name": "LSTM_4Weeks_Iquitos_Test_Train.ipynb",
   "provenance": [],
   "toc_visible": true,
   "version": "0.3.2"
  },
  "kernelspec": {
   "display_name": "Python 3",
   "language": "python",
   "name": "python3"
  },
  "language_info": {
   "codemirror_mode": {
    "name": "ipython",
    "version": 3
   },
   "file_extension": ".py",
   "mimetype": "text/x-python",
   "name": "python",
   "nbconvert_exporter": "python",
   "pygments_lexer": "ipython3",
   "version": "3.6.7"
  }
 },
 "nbformat": 4,
 "nbformat_minor": 1
}
